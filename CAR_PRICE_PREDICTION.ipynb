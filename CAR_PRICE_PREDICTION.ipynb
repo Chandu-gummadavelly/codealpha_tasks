{
 "cells": [
  {
   "cell_type": "markdown",
   "id": "670a0ded",
   "metadata": {
    "papermill": {
     "duration": 0.007592,
     "end_time": "2025-06-26T13:40:29.195153",
     "exception": false,
     "start_time": "2025-06-26T13:40:29.187561",
     "status": "completed"
    },
    "tags": []
   },
   "source": [
    "**Data science intern project**\n"
   ]
  },
  {
   "cell_type": "code",
   "execution_count": null,
   "id": "854eec32-1b54-4fac-8828-3ad330aee029",
   "metadata": {},
   "outputs": [],
   "source": []
  },
  {
   "cell_type": "markdown",
   "id": "ca50dc27",
   "metadata": {
    "papermill": {
     "duration": 0.005713,
     "end_time": "2025-06-26T13:40:29.207256",
     "exception": false,
     "start_time": "2025-06-26T13:40:29.201543",
     "status": "completed"
    },
    "tags": []
   },
   "source": [
    "1- **Data Loading and Initial Exploration**\n"
   ]
  },
  {
   "cell_type": "code",
   "execution_count": 1,
   "id": "cce5687c",
   "metadata": {
    "execution": {
     "iopub.execute_input": "2025-06-26T13:40:29.221504Z",
     "iopub.status.busy": "2025-06-26T13:40:29.220534Z",
     "iopub.status.idle": "2025-06-26T13:40:35.449682Z",
     "shell.execute_reply": "2025-06-26T13:40:35.448705Z"
    },
    "papermill": {
     "duration": 6.238471,
     "end_time": "2025-06-26T13:40:35.451735",
     "exception": false,
     "start_time": "2025-06-26T13:40:29.213264",
     "status": "completed"
    },
    "tags": []
   },
   "outputs": [],
   "source": [
    "import pandas as pd\n",
    "import numpy as np\n",
    "import matplotlib.pyplot as plt\n",
    "import seaborn as sns\n",
    "import plotly.express as px\n",
    "\n",
    "from sklearn.model_selection import train_test_split\n",
    "from sklearn.preprocessing import OneHotEncoder, StandardScaler\n",
    "from sklearn.ensemble import RandomForestRegressor\n",
    "from xgboost import XGBRegressor\n",
    "from sklearn.metrics import r2_score, mean_squared_error\n",
    "\n",
    "import warnings\n",
    "warnings.filterwarnings('ignore')\n"
   ]
  },
  {
   "cell_type": "code",
   "execution_count": 2,
   "id": "a0476d66",
   "metadata": {
    "execution": {
     "iopub.execute_input": "2025-06-26T13:40:35.466785Z",
     "iopub.status.busy": "2025-06-26T13:40:35.465683Z",
     "iopub.status.idle": "2025-06-26T13:40:35.515093Z",
     "shell.execute_reply": "2025-06-26T13:40:35.514062Z"
    },
    "papermill": {
     "duration": 0.058619,
     "end_time": "2025-06-26T13:40:35.516822",
     "exception": false,
     "start_time": "2025-06-26T13:40:35.458203",
     "status": "completed"
    },
    "tags": []
   },
   "outputs": [
    {
     "data": {
      "text/html": [
       "<div>\n",
       "<style scoped>\n",
       "    .dataframe tbody tr th:only-of-type {\n",
       "        vertical-align: middle;\n",
       "    }\n",
       "\n",
       "    .dataframe tbody tr th {\n",
       "        vertical-align: top;\n",
       "    }\n",
       "\n",
       "    .dataframe thead th {\n",
       "        text-align: right;\n",
       "    }\n",
       "</style>\n",
       "<table border=\"1\" class=\"dataframe\">\n",
       "  <thead>\n",
       "    <tr style=\"text-align: right;\">\n",
       "      <th></th>\n",
       "      <th>Car_Name</th>\n",
       "      <th>Year</th>\n",
       "      <th>Selling_Price</th>\n",
       "      <th>Present_Price</th>\n",
       "      <th>Driven_kms</th>\n",
       "      <th>Fuel_Type</th>\n",
       "      <th>Selling_type</th>\n",
       "      <th>Transmission</th>\n",
       "      <th>Owner</th>\n",
       "    </tr>\n",
       "  </thead>\n",
       "  <tbody>\n",
       "    <tr>\n",
       "      <th>0</th>\n",
       "      <td>ritz</td>\n",
       "      <td>2014</td>\n",
       "      <td>3.35</td>\n",
       "      <td>5.59</td>\n",
       "      <td>27000</td>\n",
       "      <td>Petrol</td>\n",
       "      <td>Dealer</td>\n",
       "      <td>Manual</td>\n",
       "      <td>0</td>\n",
       "    </tr>\n",
       "    <tr>\n",
       "      <th>1</th>\n",
       "      <td>sx4</td>\n",
       "      <td>2013</td>\n",
       "      <td>4.75</td>\n",
       "      <td>9.54</td>\n",
       "      <td>43000</td>\n",
       "      <td>Diesel</td>\n",
       "      <td>Dealer</td>\n",
       "      <td>Manual</td>\n",
       "      <td>0</td>\n",
       "    </tr>\n",
       "    <tr>\n",
       "      <th>2</th>\n",
       "      <td>ciaz</td>\n",
       "      <td>2017</td>\n",
       "      <td>7.25</td>\n",
       "      <td>9.85</td>\n",
       "      <td>6900</td>\n",
       "      <td>Petrol</td>\n",
       "      <td>Dealer</td>\n",
       "      <td>Manual</td>\n",
       "      <td>0</td>\n",
       "    </tr>\n",
       "    <tr>\n",
       "      <th>3</th>\n",
       "      <td>wagon r</td>\n",
       "      <td>2011</td>\n",
       "      <td>2.85</td>\n",
       "      <td>4.15</td>\n",
       "      <td>5200</td>\n",
       "      <td>Petrol</td>\n",
       "      <td>Dealer</td>\n",
       "      <td>Manual</td>\n",
       "      <td>0</td>\n",
       "    </tr>\n",
       "    <tr>\n",
       "      <th>4</th>\n",
       "      <td>swift</td>\n",
       "      <td>2014</td>\n",
       "      <td>4.60</td>\n",
       "      <td>6.87</td>\n",
       "      <td>42450</td>\n",
       "      <td>Diesel</td>\n",
       "      <td>Dealer</td>\n",
       "      <td>Manual</td>\n",
       "      <td>0</td>\n",
       "    </tr>\n",
       "  </tbody>\n",
       "</table>\n",
       "</div>"
      ],
      "text/plain": [
       "  Car_Name  Year  Selling_Price  Present_Price  Driven_kms Fuel_Type  \\\n",
       "0     ritz  2014           3.35           5.59       27000    Petrol   \n",
       "1      sx4  2013           4.75           9.54       43000    Diesel   \n",
       "2     ciaz  2017           7.25           9.85        6900    Petrol   \n",
       "3  wagon r  2011           2.85           4.15        5200    Petrol   \n",
       "4    swift  2014           4.60           6.87       42450    Diesel   \n",
       "\n",
       "  Selling_type Transmission  Owner  \n",
       "0       Dealer       Manual      0  \n",
       "1       Dealer       Manual      0  \n",
       "2       Dealer       Manual      0  \n",
       "3       Dealer       Manual      0  \n",
       "4       Dealer       Manual      0  "
      ]
     },
     "execution_count": 2,
     "metadata": {},
     "output_type": "execute_result"
    }
   ],
   "source": [
    "df = pd.read_csv(\"/kaggle/input/car-price-predictionused-cars/car data.csv\")\n",
    "df.head()\n"
   ]
  },
  {
   "cell_type": "code",
   "execution_count": 3,
   "id": "2bda3943",
   "metadata": {
    "execution": {
     "iopub.execute_input": "2025-06-26T13:40:35.531474Z",
     "iopub.status.busy": "2025-06-26T13:40:35.531136Z",
     "iopub.status.idle": "2025-06-26T13:40:35.537653Z",
     "shell.execute_reply": "2025-06-26T13:40:35.536572Z"
    },
    "papermill": {
     "duration": 0.015506,
     "end_time": "2025-06-26T13:40:35.539139",
     "exception": false,
     "start_time": "2025-06-26T13:40:35.523633",
     "status": "completed"
    },
    "tags": []
   },
   "outputs": [
    {
     "data": {
      "text/plain": [
       "(301, 9)"
      ]
     },
     "execution_count": 3,
     "metadata": {},
     "output_type": "execute_result"
    }
   ],
   "source": [
    "df.shape  \n"
   ]
  },
  {
   "cell_type": "code",
   "execution_count": 4,
   "id": "3ed10181",
   "metadata": {
    "execution": {
     "iopub.execute_input": "2025-06-26T13:40:35.553332Z",
     "iopub.status.busy": "2025-06-26T13:40:35.553022Z",
     "iopub.status.idle": "2025-06-26T13:40:35.561781Z",
     "shell.execute_reply": "2025-06-26T13:40:35.560622Z"
    },
    "papermill": {
     "duration": 0.01768,
     "end_time": "2025-06-26T13:40:35.563334",
     "exception": false,
     "start_time": "2025-06-26T13:40:35.545654",
     "status": "completed"
    },
    "tags": []
   },
   "outputs": [
    {
     "data": {
      "text/plain": [
       "Car_Name         0\n",
       "Year             0\n",
       "Selling_Price    0\n",
       "Present_Price    0\n",
       "Driven_kms       0\n",
       "Fuel_Type        0\n",
       "Selling_type     0\n",
       "Transmission     0\n",
       "Owner            0\n",
       "dtype: int64"
      ]
     },
     "execution_count": 4,
     "metadata": {},
     "output_type": "execute_result"
    }
   ],
   "source": [
    "df.isnull().sum()"
   ]
  },
  {
   "cell_type": "code",
   "execution_count": 5,
   "id": "0e48a2cd",
   "metadata": {
    "execution": {
     "iopub.execute_input": "2025-06-26T13:40:35.578789Z",
     "iopub.status.busy": "2025-06-26T13:40:35.578474Z",
     "iopub.status.idle": "2025-06-26T13:40:35.606333Z",
     "shell.execute_reply": "2025-06-26T13:40:35.605225Z"
    },
    "papermill": {
     "duration": 0.03777,
     "end_time": "2025-06-26T13:40:35.608078",
     "exception": false,
     "start_time": "2025-06-26T13:40:35.570308",
     "status": "completed"
    },
    "tags": []
   },
   "outputs": [
    {
     "data": {
      "text/html": [
       "<div>\n",
       "<style scoped>\n",
       "    .dataframe tbody tr th:only-of-type {\n",
       "        vertical-align: middle;\n",
       "    }\n",
       "\n",
       "    .dataframe tbody tr th {\n",
       "        vertical-align: top;\n",
       "    }\n",
       "\n",
       "    .dataframe thead th {\n",
       "        text-align: right;\n",
       "    }\n",
       "</style>\n",
       "<table border=\"1\" class=\"dataframe\">\n",
       "  <thead>\n",
       "    <tr style=\"text-align: right;\">\n",
       "      <th></th>\n",
       "      <th>Year</th>\n",
       "      <th>Selling_Price</th>\n",
       "      <th>Present_Price</th>\n",
       "      <th>Driven_kms</th>\n",
       "      <th>Owner</th>\n",
       "    </tr>\n",
       "  </thead>\n",
       "  <tbody>\n",
       "    <tr>\n",
       "      <th>count</th>\n",
       "      <td>301.000000</td>\n",
       "      <td>301.000000</td>\n",
       "      <td>301.000000</td>\n",
       "      <td>301.000000</td>\n",
       "      <td>301.000000</td>\n",
       "    </tr>\n",
       "    <tr>\n",
       "      <th>mean</th>\n",
       "      <td>2013.627907</td>\n",
       "      <td>4.661296</td>\n",
       "      <td>7.628472</td>\n",
       "      <td>36947.205980</td>\n",
       "      <td>0.043189</td>\n",
       "    </tr>\n",
       "    <tr>\n",
       "      <th>std</th>\n",
       "      <td>2.891554</td>\n",
       "      <td>5.082812</td>\n",
       "      <td>8.642584</td>\n",
       "      <td>38886.883882</td>\n",
       "      <td>0.247915</td>\n",
       "    </tr>\n",
       "    <tr>\n",
       "      <th>min</th>\n",
       "      <td>2003.000000</td>\n",
       "      <td>0.100000</td>\n",
       "      <td>0.320000</td>\n",
       "      <td>500.000000</td>\n",
       "      <td>0.000000</td>\n",
       "    </tr>\n",
       "    <tr>\n",
       "      <th>25%</th>\n",
       "      <td>2012.000000</td>\n",
       "      <td>0.900000</td>\n",
       "      <td>1.200000</td>\n",
       "      <td>15000.000000</td>\n",
       "      <td>0.000000</td>\n",
       "    </tr>\n",
       "    <tr>\n",
       "      <th>50%</th>\n",
       "      <td>2014.000000</td>\n",
       "      <td>3.600000</td>\n",
       "      <td>6.400000</td>\n",
       "      <td>32000.000000</td>\n",
       "      <td>0.000000</td>\n",
       "    </tr>\n",
       "    <tr>\n",
       "      <th>75%</th>\n",
       "      <td>2016.000000</td>\n",
       "      <td>6.000000</td>\n",
       "      <td>9.900000</td>\n",
       "      <td>48767.000000</td>\n",
       "      <td>0.000000</td>\n",
       "    </tr>\n",
       "    <tr>\n",
       "      <th>max</th>\n",
       "      <td>2018.000000</td>\n",
       "      <td>35.000000</td>\n",
       "      <td>92.600000</td>\n",
       "      <td>500000.000000</td>\n",
       "      <td>3.000000</td>\n",
       "    </tr>\n",
       "  </tbody>\n",
       "</table>\n",
       "</div>"
      ],
      "text/plain": [
       "              Year  Selling_Price  Present_Price     Driven_kms       Owner\n",
       "count   301.000000     301.000000     301.000000     301.000000  301.000000\n",
       "mean   2013.627907       4.661296       7.628472   36947.205980    0.043189\n",
       "std       2.891554       5.082812       8.642584   38886.883882    0.247915\n",
       "min    2003.000000       0.100000       0.320000     500.000000    0.000000\n",
       "25%    2012.000000       0.900000       1.200000   15000.000000    0.000000\n",
       "50%    2014.000000       3.600000       6.400000   32000.000000    0.000000\n",
       "75%    2016.000000       6.000000       9.900000   48767.000000    0.000000\n",
       "max    2018.000000      35.000000      92.600000  500000.000000    3.000000"
      ]
     },
     "execution_count": 5,
     "metadata": {},
     "output_type": "execute_result"
    }
   ],
   "source": [
    "df.describe()\n"
   ]
  },
  {
   "cell_type": "code",
   "execution_count": 6,
   "id": "638ef509",
   "metadata": {
    "execution": {
     "iopub.execute_input": "2025-06-26T13:40:35.623421Z",
     "iopub.status.busy": "2025-06-26T13:40:35.622757Z",
     "iopub.status.idle": "2025-06-26T13:40:35.630292Z",
     "shell.execute_reply": "2025-06-26T13:40:35.629313Z"
    },
    "papermill": {
     "duration": 0.016834,
     "end_time": "2025-06-26T13:40:35.632019",
     "exception": false,
     "start_time": "2025-06-26T13:40:35.615185",
     "status": "completed"
    },
    "tags": []
   },
   "outputs": [
    {
     "data": {
      "text/plain": [
       "Index(['Car_Name', 'Year', 'Selling_Price', 'Present_Price', 'Driven_kms',\n",
       "       'Fuel_Type', 'Selling_type', 'Transmission', 'Owner'],\n",
       "      dtype='object')"
      ]
     },
     "execution_count": 6,
     "metadata": {},
     "output_type": "execute_result"
    }
   ],
   "source": [
    "df.columns"
   ]
  },
  {
   "cell_type": "code",
   "execution_count": 7,
   "id": "5ba88052",
   "metadata": {
    "execution": {
     "iopub.execute_input": "2025-06-26T13:40:35.647268Z",
     "iopub.status.busy": "2025-06-26T13:40:35.646959Z",
     "iopub.status.idle": "2025-06-26T13:40:35.652281Z",
     "shell.execute_reply": "2025-06-26T13:40:35.651230Z"
    },
    "papermill": {
     "duration": 0.014763,
     "end_time": "2025-06-26T13:40:35.653843",
     "exception": false,
     "start_time": "2025-06-26T13:40:35.639080",
     "status": "completed"
    },
    "tags": []
   },
   "outputs": [
    {
     "name": "stdout",
     "output_type": "stream",
     "text": [
      "Index(['Car_Name', 'Year', 'Selling_Price', 'Present_Price', 'Driven_kms',\n",
      "       'Fuel_Type', 'Selling_type', 'Transmission', 'Owner'],\n",
      "      dtype='object')\n"
     ]
    }
   ],
   "source": [
    "print(df.columns)"
   ]
  },
  {
   "cell_type": "code",
   "execution_count": 8,
   "id": "d0fe821c",
   "metadata": {
    "execution": {
     "iopub.execute_input": "2025-06-26T13:40:35.669746Z",
     "iopub.status.busy": "2025-06-26T13:40:35.669404Z",
     "iopub.status.idle": "2025-06-26T13:40:35.684775Z",
     "shell.execute_reply": "2025-06-26T13:40:35.683778Z"
    },
    "papermill": {
     "duration": 0.025029,
     "end_time": "2025-06-26T13:40:35.686456",
     "exception": false,
     "start_time": "2025-06-26T13:40:35.661427",
     "status": "completed"
    },
    "tags": []
   },
   "outputs": [],
   "source": [
    "df = pd.get_dummies(df, drop_first=True)"
   ]
  },
  {
   "cell_type": "markdown",
   "id": "0f5589e6",
   "metadata": {
    "papermill": {
     "duration": 0.006273,
     "end_time": "2025-06-26T13:40:35.699622",
     "exception": false,
     "start_time": "2025-06-26T13:40:35.693349",
     "status": "completed"
    },
    "tags": []
   },
   "source": [
    "2-**Data Cleaning and Feature Engineering**\n",
    "\n",
    "In this phase, we clean and prepare the data for modeling. This includes removing any irrelevant or redundant columns."
   ]
  },
  {
   "cell_type": "code",
   "execution_count": 9,
   "id": "b3d49340",
   "metadata": {
    "execution": {
     "iopub.execute_input": "2025-06-26T13:40:35.714041Z",
     "iopub.status.busy": "2025-06-26T13:40:35.713713Z",
     "iopub.status.idle": "2025-06-26T13:40:35.720238Z",
     "shell.execute_reply": "2025-06-26T13:40:35.719094Z"
    },
    "papermill": {
     "duration": 0.016003,
     "end_time": "2025-06-26T13:40:35.722183",
     "exception": false,
     "start_time": "2025-06-26T13:40:35.706180",
     "status": "completed"
    },
    "tags": []
   },
   "outputs": [
    {
     "data": {
      "text/plain": [
       "(301, 106)"
      ]
     },
     "execution_count": 9,
     "metadata": {},
     "output_type": "execute_result"
    }
   ],
   "source": [
    "df.head()\n",
    "df.columns\n",
    "df.shape"
   ]
  },
  {
   "cell_type": "code",
   "execution_count": 10,
   "id": "910ea2be",
   "metadata": {
    "execution": {
     "iopub.execute_input": "2025-06-26T13:40:35.739073Z",
     "iopub.status.busy": "2025-06-26T13:40:35.738737Z",
     "iopub.status.idle": "2025-06-26T13:40:35.763115Z",
     "shell.execute_reply": "2025-06-26T13:40:35.762160Z"
    },
    "papermill": {
     "duration": 0.034331,
     "end_time": "2025-06-26T13:40:35.764722",
     "exception": false,
     "start_time": "2025-06-26T13:40:35.730391",
     "status": "completed"
    },
    "tags": []
   },
   "outputs": [
    {
     "data": {
      "text/plain": [
       "2"
      ]
     },
     "execution_count": 10,
     "metadata": {},
     "output_type": "execute_result"
    }
   ],
   "source": [
    "df.duplicated().sum()"
   ]
  },
  {
   "cell_type": "code",
   "execution_count": 11,
   "id": "1abce4ae",
   "metadata": {
    "execution": {
     "iopub.execute_input": "2025-06-26T13:40:35.780995Z",
     "iopub.status.busy": "2025-06-26T13:40:35.780633Z",
     "iopub.status.idle": "2025-06-26T13:40:35.798844Z",
     "shell.execute_reply": "2025-06-26T13:40:35.797957Z"
    },
    "papermill": {
     "duration": 0.028451,
     "end_time": "2025-06-26T13:40:35.800792",
     "exception": false,
     "start_time": "2025-06-26T13:40:35.772341",
     "status": "completed"
    },
    "tags": []
   },
   "outputs": [],
   "source": [
    "df = df.drop_duplicates()"
   ]
  },
  {
   "cell_type": "code",
   "execution_count": 12,
   "id": "54d28fd4",
   "metadata": {
    "execution": {
     "iopub.execute_input": "2025-06-26T13:40:35.816724Z",
     "iopub.status.busy": "2025-06-26T13:40:35.816021Z",
     "iopub.status.idle": "2025-06-26T13:40:35.832838Z",
     "shell.execute_reply": "2025-06-26T13:40:35.831679Z"
    },
    "papermill": {
     "duration": 0.026281,
     "end_time": "2025-06-26T13:40:35.834397",
     "exception": false,
     "start_time": "2025-06-26T13:40:35.808116",
     "status": "completed"
    },
    "tags": []
   },
   "outputs": [
    {
     "name": "stdout",
     "output_type": "stream",
     "text": [
      "The duplicate values is: 0\n"
     ]
    }
   ],
   "source": [
    "print(\"The duplicate values is:\", df.duplicated().sum())"
   ]
  },
  {
   "cell_type": "code",
   "execution_count": 13,
   "id": "79f12ee5",
   "metadata": {
    "execution": {
     "iopub.execute_input": "2025-06-26T13:40:35.850015Z",
     "iopub.status.busy": "2025-06-26T13:40:35.849672Z",
     "iopub.status.idle": "2025-06-26T13:40:36.049545Z",
     "shell.execute_reply": "2025-06-26T13:40:36.048412Z"
    },
    "papermill": {
     "duration": 0.20953,
     "end_time": "2025-06-26T13:40:36.051225",
     "exception": false,
     "start_time": "2025-06-26T13:40:35.841695",
     "status": "completed"
    },
    "tags": []
   },
   "outputs": [
    {
     "data": {
      "text/html": [
       "<style type=\"text/css\">\n",
       "#T_16d96_row0_col0 {\n",
       "  background-color: #46337f;\n",
       "  color: #f1f1f1;\n",
       "}\n",
       "#T_16d96_row0_col1, #T_16d96_row0_col2, #T_16d96_row0_col4, #T_16d96_row1_col0, #T_16d96_row4_col0, #T_16d96_row5_col0, #T_16d96_row6_col0, #T_16d96_row7_col0, #T_16d96_row7_col3 {\n",
       "  background-color: #fde725;\n",
       "  color: #000000;\n",
       "}\n",
       "#T_16d96_row0_col3, #T_16d96_row1_col4, #T_16d96_row2_col0, #T_16d96_row2_col4, #T_16d96_row3_col1, #T_16d96_row3_col2, #T_16d96_row3_col3, #T_16d96_row3_col4, #T_16d96_row4_col1, #T_16d96_row4_col2, #T_16d96_row4_col4, #T_16d96_row5_col4, #T_16d96_row6_col4 {\n",
       "  background-color: #440154;\n",
       "  color: #f1f1f1;\n",
       "}\n",
       "#T_16d96_row1_col1 {\n",
       "  background-color: #450559;\n",
       "  color: #f1f1f1;\n",
       "}\n",
       "#T_16d96_row1_col2 {\n",
       "  background-color: #460a5d;\n",
       "  color: #f1f1f1;\n",
       "}\n",
       "#T_16d96_row1_col3 {\n",
       "  background-color: #481b6d;\n",
       "  color: #f1f1f1;\n",
       "}\n",
       "#T_16d96_row2_col1, #T_16d96_row5_col2 {\n",
       "  background-color: #46075a;\n",
       "  color: #f1f1f1;\n",
       "}\n",
       "#T_16d96_row2_col2, #T_16d96_row4_col3 {\n",
       "  background-color: #460b5e;\n",
       "  color: #f1f1f1;\n",
       "}\n",
       "#T_16d96_row2_col3 {\n",
       "  background-color: #481c6e;\n",
       "  color: #f1f1f1;\n",
       "}\n",
       "#T_16d96_row3_col0 {\n",
       "  background-color: #fbe723;\n",
       "  color: #000000;\n",
       "}\n",
       "#T_16d96_row5_col1, #T_16d96_row7_col4 {\n",
       "  background-color: #450457;\n",
       "  color: #f1f1f1;\n",
       "}\n",
       "#T_16d96_row5_col3 {\n",
       "  background-color: #48186a;\n",
       "  color: #f1f1f1;\n",
       "}\n",
       "#T_16d96_row6_col1 {\n",
       "  background-color: #46085c;\n",
       "  color: #f1f1f1;\n",
       "}\n",
       "#T_16d96_row6_col2 {\n",
       "  background-color: #470d60;\n",
       "  color: #f1f1f1;\n",
       "}\n",
       "#T_16d96_row6_col3 {\n",
       "  background-color: #482374;\n",
       "  color: #f1f1f1;\n",
       "}\n",
       "#T_16d96_row7_col1 {\n",
       "  background-color: #482979;\n",
       "  color: #f1f1f1;\n",
       "}\n",
       "#T_16d96_row7_col2 {\n",
       "  background-color: #33628d;\n",
       "  color: #f1f1f1;\n",
       "}\n",
       "</style>\n",
       "<table id=\"T_16d96\">\n",
       "  <thead>\n",
       "    <tr>\n",
       "      <th class=\"blank level0\" >&nbsp;</th>\n",
       "      <th id=\"T_16d96_level0_col0\" class=\"col_heading level0 col0\" >Year</th>\n",
       "      <th id=\"T_16d96_level0_col1\" class=\"col_heading level0 col1\" >Selling_Price</th>\n",
       "      <th id=\"T_16d96_level0_col2\" class=\"col_heading level0 col2\" >Present_Price</th>\n",
       "      <th id=\"T_16d96_level0_col3\" class=\"col_heading level0 col3\" >Driven_kms</th>\n",
       "      <th id=\"T_16d96_level0_col4\" class=\"col_heading level0 col4\" >Owner</th>\n",
       "    </tr>\n",
       "  </thead>\n",
       "  <tbody>\n",
       "    <tr>\n",
       "      <th id=\"T_16d96_level0_row0\" class=\"row_heading level0 row0\" >count</th>\n",
       "      <td id=\"T_16d96_row0_col0\" class=\"data row0 col0\" >299.00</td>\n",
       "      <td id=\"T_16d96_row0_col1\" class=\"data row0 col1\" >299.00</td>\n",
       "      <td id=\"T_16d96_row0_col2\" class=\"data row0 col2\" >299.00</td>\n",
       "      <td id=\"T_16d96_row0_col3\" class=\"data row0 col3\" >299.00</td>\n",
       "      <td id=\"T_16d96_row0_col4\" class=\"data row0 col4\" >299.00</td>\n",
       "    </tr>\n",
       "    <tr>\n",
       "      <th id=\"T_16d96_level0_row1\" class=\"row_heading level0 row1\" >mean</th>\n",
       "      <td id=\"T_16d96_row1_col0\" class=\"data row1 col0\" >2013.62</td>\n",
       "      <td id=\"T_16d96_row1_col1\" class=\"data row1 col1\" >4.59</td>\n",
       "      <td id=\"T_16d96_row1_col2\" class=\"data row1 col2\" >7.54</td>\n",
       "      <td id=\"T_16d96_row1_col3\" class=\"data row1 col3\" >36916.75</td>\n",
       "      <td id=\"T_16d96_row1_col4\" class=\"data row1 col4\" >0.04</td>\n",
       "    </tr>\n",
       "    <tr>\n",
       "      <th id=\"T_16d96_level0_row2\" class=\"row_heading level0 row2\" >std</th>\n",
       "      <td id=\"T_16d96_row2_col0\" class=\"data row2 col0\" >2.90</td>\n",
       "      <td id=\"T_16d96_row2_col1\" class=\"data row2 col1\" >4.98</td>\n",
       "      <td id=\"T_16d96_row2_col2\" class=\"data row2 col2\" >8.57</td>\n",
       "      <td id=\"T_16d96_row2_col3\" class=\"data row2 col3\" >39015.17</td>\n",
       "      <td id=\"T_16d96_row2_col4\" class=\"data row2 col4\" >0.25</td>\n",
       "    </tr>\n",
       "    <tr>\n",
       "      <th id=\"T_16d96_level0_row3\" class=\"row_heading level0 row3\" >min</th>\n",
       "      <td id=\"T_16d96_row3_col0\" class=\"data row3 col0\" >2003.00</td>\n",
       "      <td id=\"T_16d96_row3_col1\" class=\"data row3 col1\" >0.10</td>\n",
       "      <td id=\"T_16d96_row3_col2\" class=\"data row3 col2\" >0.32</td>\n",
       "      <td id=\"T_16d96_row3_col3\" class=\"data row3 col3\" >500.00</td>\n",
       "      <td id=\"T_16d96_row3_col4\" class=\"data row3 col4\" >0.00</td>\n",
       "    </tr>\n",
       "    <tr>\n",
       "      <th id=\"T_16d96_level0_row4\" class=\"row_heading level0 row4\" >25%</th>\n",
       "      <td id=\"T_16d96_row4_col0\" class=\"data row4 col0\" >2012.00</td>\n",
       "      <td id=\"T_16d96_row4_col1\" class=\"data row4 col1\" >0.85</td>\n",
       "      <td id=\"T_16d96_row4_col2\" class=\"data row4 col2\" >1.20</td>\n",
       "      <td id=\"T_16d96_row4_col3\" class=\"data row4 col3\" >15000.00</td>\n",
       "      <td id=\"T_16d96_row4_col4\" class=\"data row4 col4\" >0.00</td>\n",
       "    </tr>\n",
       "    <tr>\n",
       "      <th id=\"T_16d96_level0_row5\" class=\"row_heading level0 row5\" >50%</th>\n",
       "      <td id=\"T_16d96_row5_col0\" class=\"data row5 col0\" >2014.00</td>\n",
       "      <td id=\"T_16d96_row5_col1\" class=\"data row5 col1\" >3.51</td>\n",
       "      <td id=\"T_16d96_row5_col2\" class=\"data row5 col2\" >6.10</td>\n",
       "      <td id=\"T_16d96_row5_col3\" class=\"data row5 col3\" >32000.00</td>\n",
       "      <td id=\"T_16d96_row5_col4\" class=\"data row5 col4\" >0.00</td>\n",
       "    </tr>\n",
       "    <tr>\n",
       "      <th id=\"T_16d96_level0_row6\" class=\"row_heading level0 row6\" >75%</th>\n",
       "      <td id=\"T_16d96_row6_col0\" class=\"data row6 col0\" >2016.00</td>\n",
       "      <td id=\"T_16d96_row6_col1\" class=\"data row6 col1\" >6.00</td>\n",
       "      <td id=\"T_16d96_row6_col2\" class=\"data row6 col2\" >9.84</td>\n",
       "      <td id=\"T_16d96_row6_col3\" class=\"data row6 col3\" >48883.50</td>\n",
       "      <td id=\"T_16d96_row6_col4\" class=\"data row6 col4\" >0.00</td>\n",
       "    </tr>\n",
       "    <tr>\n",
       "      <th id=\"T_16d96_level0_row7\" class=\"row_heading level0 row7\" >max</th>\n",
       "      <td id=\"T_16d96_row7_col0\" class=\"data row7 col0\" >2018.00</td>\n",
       "      <td id=\"T_16d96_row7_col1\" class=\"data row7 col1\" >35.00</td>\n",
       "      <td id=\"T_16d96_row7_col2\" class=\"data row7 col2\" >92.60</td>\n",
       "      <td id=\"T_16d96_row7_col3\" class=\"data row7 col3\" >500000.00</td>\n",
       "      <td id=\"T_16d96_row7_col4\" class=\"data row7 col4\" >3.00</td>\n",
       "    </tr>\n",
       "  </tbody>\n",
       "</table>\n"
      ],
      "text/plain": [
       "<pandas.io.formats.style.Styler at 0x7d652e4b1a50>"
      ]
     },
     "execution_count": 13,
     "metadata": {},
     "output_type": "execute_result"
    }
   ],
   "source": [
    "df.describe().style.format(precision=2).background_gradient(cmap='viridis')"
   ]
  },
  {
   "cell_type": "code",
   "execution_count": 14,
   "id": "748db8c3",
   "metadata": {
    "execution": {
     "iopub.execute_input": "2025-06-26T13:40:36.067684Z",
     "iopub.status.busy": "2025-06-26T13:40:36.067069Z",
     "iopub.status.idle": "2025-06-26T13:40:36.083001Z",
     "shell.execute_reply": "2025-06-26T13:40:36.081773Z"
    },
    "papermill": {
     "duration": 0.026142,
     "end_time": "2025-06-26T13:40:36.084734",
     "exception": false,
     "start_time": "2025-06-26T13:40:36.058592",
     "status": "completed"
    },
    "tags": []
   },
   "outputs": [],
   "source": [
    "df = pd.read_csv(\"/kaggle/input/car-price-predictionused-cars/car data.csv\")\n",
    "df['Car_Age'] = 2025 - df['Year']\n",
    "df = pd.get_dummies(df.drop(['Year', 'Car_Name'], axis=1), drop_first=True)\n",
    "df = df.loc[:, ~df.columns.str.startswith('Car_Name_')]"
   ]
  },
  {
   "cell_type": "code",
   "execution_count": 15,
   "id": "8052e0f0",
   "metadata": {
    "execution": {
     "iopub.execute_input": "2025-06-26T13:40:36.100516Z",
     "iopub.status.busy": "2025-06-26T13:40:36.100139Z",
     "iopub.status.idle": "2025-06-26T13:40:36.113772Z",
     "shell.execute_reply": "2025-06-26T13:40:36.112399Z"
    },
    "papermill": {
     "duration": 0.023324,
     "end_time": "2025-06-26T13:40:36.115338",
     "exception": false,
     "start_time": "2025-06-26T13:40:36.092014",
     "status": "completed"
    },
    "tags": []
   },
   "outputs": [
    {
     "name": "stdout",
     "output_type": "stream",
     "text": [
      "Means:\n",
      "Selling_Price        4.661296\n",
      "Present_Price        7.628472\n",
      "Driven_kms       36947.205980\n",
      "Owner                0.043189\n",
      "dtype: float64\n",
      "\n",
      "Standard Deviations:\n",
      "Selling_Price        5.082812\n",
      "Present_Price        8.642584\n",
      "Driven_kms       38886.883882\n",
      "Owner                0.247915\n",
      "dtype: float64\n"
     ]
    }
   ],
   "source": [
    "import pandas as pd\n",
    "\n",
    "df = pd.read_csv('/kaggle/input/car-price-predictionused-cars/car data.csv')\n",
    "\n",
    "mean_values = df[['Selling_Price', 'Present_Price', 'Driven_kms', 'Owner']].mean()\n",
    "std_values = df[['Selling_Price', 'Present_Price', 'Driven_kms', 'Owner']].std()\n",
    "\n",
    "print(\"Means:\")\n",
    "print(mean_values)\n",
    "print(\"\\nStandard Deviations:\")\n",
    "print(std_values)"
   ]
  },
  {
   "cell_type": "code",
   "execution_count": 16,
   "id": "40d1f3e5",
   "metadata": {
    "execution": {
     "iopub.execute_input": "2025-06-26T13:40:36.132473Z",
     "iopub.status.busy": "2025-06-26T13:40:36.131029Z",
     "iopub.status.idle": "2025-06-26T13:40:36.165948Z",
     "shell.execute_reply": "2025-06-26T13:40:36.164780Z"
    },
    "papermill": {
     "duration": 0.045224,
     "end_time": "2025-06-26T13:40:36.167813",
     "exception": false,
     "start_time": "2025-06-26T13:40:36.122589",
     "status": "completed"
    },
    "tags": []
   },
   "outputs": [
    {
     "name": "stdout",
     "output_type": "stream",
     "text": [
      "                   Car_Name  Year_Min  Year_Max  Selling_Price_Mean  \\\n",
      "0                       800      2003      2003               0.350   \n",
      "1                 Activa 3g      2008      2016               0.310   \n",
      "2                 Activa 4g      2017      2017               0.400   \n",
      "3             Bajaj  ct 100      2015      2015               0.180   \n",
      "4         Bajaj Avenger 150      2016      2016               0.750   \n",
      "5  Bajaj Avenger 150 street      2016      2016               0.600   \n",
      "6         Bajaj Avenger 220      2016      2017               0.790   \n",
      "7    Bajaj Avenger 220 dtsi      2010      2015               0.525   \n",
      "8  Bajaj Avenger Street 220      2011      2011               0.450   \n",
      "9        Bajaj Discover 100      2013      2013               0.270   \n",
      "\n",
      "   Selling_Price_Std  Selling_Price_Min  Selling_Price_Max  \\\n",
      "0                NaN               0.35               0.35   \n",
      "1           0.197990               0.17               0.45   \n",
      "2                NaN               0.40               0.40   \n",
      "3                NaN               0.18               0.18   \n",
      "4                NaN               0.75               0.75   \n",
      "5                NaN               0.60               0.60   \n",
      "6           0.096437               0.72               0.90   \n",
      "7           0.106066               0.45               0.60   \n",
      "8                NaN               0.45               0.45   \n",
      "9                NaN               0.27               0.27   \n",
      "\n",
      "   Present_Price_Mean  Present_Price_Std  Kms_Driven_Mean  Kms_Driven_Std  \\\n",
      "0                2.28                NaN    127000.000000             NaN   \n",
      "1                0.53           0.014142    250250.000000   353199.837203   \n",
      "2                0.51                NaN      1300.000000             NaN   \n",
      "3                0.32                NaN     35000.000000             NaN   \n",
      "4                0.80                NaN      7000.000000             NaN   \n",
      "5                0.80                NaN     20000.000000             NaN   \n",
      "6                0.95           0.000000      1766.666667     1553.490693   \n",
      "7                0.95           0.000000     21800.000000     7353.910524   \n",
      "8                0.95                NaN     24000.000000             NaN   \n",
      "9                0.47                NaN     21000.000000             NaN   \n",
      "\n",
      "   Owner_Mean  \n",
      "0         0.0  \n",
      "1         0.0  \n",
      "2         0.0  \n",
      "3         0.0  \n",
      "4         0.0  \n",
      "5         0.0  \n",
      "6         0.0  \n",
      "7         0.0  \n",
      "8         0.0  \n",
      "9         0.0  \n"
     ]
    }
   ],
   "source": [
    "import pandas as pd\n",
    "\n",
    "df = pd.read_csv('/kaggle/input/car-price-predictionused-cars/car data.csv')\n",
    "\n",
    "summary = df.groupby('Car_Name').agg({\n",
    "    'Year': ['min', 'max'],\n",
    "    'Selling_Price': ['mean', 'std', 'min', 'max'],\n",
    "    'Present_Price': ['mean', 'std'],\n",
    "    'Driven_kms': ['mean', 'std'],\n",
    "    'Owner': ['mean']\n",
    "}).reset_index()\n",
    "\n",
    "summary.columns = ['Car_Name', 'Year_Min', 'Year_Max',\n",
    "                   'Selling_Price_Mean', 'Selling_Price_Std', 'Selling_Price_Min', 'Selling_Price_Max',\n",
    "                   'Present_Price_Mean', 'Present_Price_Std',\n",
    "                   'Kms_Driven_Mean', 'Kms_Driven_Std',\n",
    "                   'Owner_Mean']\n",
    "\n",
    "print(summary.head(10))"
   ]
  },
  {
   "cell_type": "markdown",
   "id": "2fe88a95",
   "metadata": {
    "papermill": {
     "duration": 0.007415,
     "end_time": "2025-06-26T13:40:36.183056",
     "exception": false,
     "start_time": "2025-06-26T13:40:36.175641",
     "status": "completed"
    },
    "tags": []
   },
   "source": [
    "3- **Data visualization**  "
   ]
  },
  {
   "cell_type": "code",
   "execution_count": 17,
   "id": "4e2cb021",
   "metadata": {
    "execution": {
     "iopub.execute_input": "2025-06-26T13:40:36.199509Z",
     "iopub.status.busy": "2025-06-26T13:40:36.199188Z",
     "iopub.status.idle": "2025-06-26T13:40:38.309997Z",
     "shell.execute_reply": "2025-06-26T13:40:38.308957Z"
    },
    "papermill": {
     "duration": 2.121064,
     "end_time": "2025-06-26T13:40:38.311699",
     "exception": false,
     "start_time": "2025-06-26T13:40:36.190635",
     "status": "completed"
    },
    "tags": []
   },
   "outputs": [
    {
     "data": {
      "text/html": [
       "<html>\n",
       "<head><meta charset=\"utf-8\" /></head>\n",
       "<body>\n",
       "    <div>            <script src=\"https://cdnjs.cloudflare.com/ajax/libs/mathjax/2.7.5/MathJax.js?config=TeX-AMS-MML_SVG\"></script><script type=\"text/javascript\">if (window.MathJax && window.MathJax.Hub && window.MathJax.Hub.Config) {window.MathJax.Hub.Config({SVG: {font: \"STIX-Web\"}});}</script>                <script type=\"text/javascript\">window.PlotlyConfig = {MathJaxConfig: 'local'};</script>\n",
       "        <script charset=\"utf-8\" src=\"https://cdn.plot.ly/plotly-2.35.2.min.js\"></script>                <div id=\"510a1a16-4f2e-4cf3-8e0e-7db4f207633a\" class=\"plotly-graph-div\" style=\"height:525px; width:100%;\"></div>            <script type=\"text/javascript\">                                    window.PLOTLYENV=window.PLOTLYENV || {};                                    if (document.getElementById(\"510a1a16-4f2e-4cf3-8e0e-7db4f207633a\")) {                    Plotly.newPlot(                        \"510a1a16-4f2e-4cf3-8e0e-7db4f207633a\",                        [{\"customdata\":[[27000,0,\"Manual\"],[6900,0,\"Manual\"],[5200,0,\"Manual\"],[18796,0,\"Manual\"],[2135,0,\"Manual\"],[15000,0,\"Automatic\"],[26000,0,\"Manual\"],[77427,0,\"Manual\"],[41442,0,\"Manual\"],[25000,0,\"Manual\"],[2400,0,\"Manual\"],[50000,0,\"Automatic\"],[45280,0,\"Manual\"],[56879,0,\"Manual\"],[20000,0,\"Manual\"],[55138,0,\"Manual\"],[16200,0,\"Manual\"],[44542,0,\"Manual\"],[54200,0,\"Manual\"],[48767,0,\"Manual\"],[127000,0,\"Manual\"],[10079,0,\"Manual\"],[62000,0,\"Manual\"],[24524,0,\"Automatic\"],[46706,0,\"Manual\"],[58000,0,\"Manual\"],[50000,0,\"Manual\"],[15000,0,\"Automatic\"],[64532,0,\"Manual\"],[65000,0,\"Manual\"],[25870,0,\"Manual\"],[37000,0,\"Automatic\"],[90000,0,\"Manual\"],[70000,0,\"Automatic\"],[40534,0,\"Manual\"],[50000,0,\"Manual\"],[39485,1,\"Manual\"],[40001,0,\"Manual\"],[40588,0,\"Manual\"],[11000,0,\"Automatic\"],[88000,0,\"Manual\"],[12000,0,\"Manual\"],[56001,0,\"Manual\"],[43000,0,\"Manual\"],[36000,0,\"Manual\"],[72000,0,\"Manual\"],[135154,0,\"Automatic\"],[80000,0,\"Automatic\"],[142000,3,\"Automatic\"],[56000,0,\"Manual\"],[47000,0,\"Manual\"],[40000,0,\"Manual\"],[62000,0,\"Manual\"],[75000,0,\"Manual\"],[89000,0,\"Automatic\"],[72000,0,\"Manual\"],[8700,0,\"Manual\"],[45000,0,\"Manual\"],[3000,0,\"Manual\"],[1400,0,\"Manual\"],[4000,0,\"Manual\"],[1200,0,\"Manual\"],[4100,0,\"Manual\"],[21700,0,\"Manual\"],[16500,1,\"Manual\"],[15000,0,\"Manual\"],[18000,0,\"Manual\"],[11000,0,\"Manual\"],[6000,0,\"Manual\"],[8700,0,\"Manual\"],[7000,0,\"Manual\"],[35000,0,\"Manual\"],[17000,0,\"Manual\"],[17500,0,\"Manual\"],[33000,0,\"Manual\"],[14000,0,\"Manual\"],[26000,0,\"Manual\"],[5400,0,\"Manual\"],[5700,0,\"Manual\"],[6900,0,\"Manual\"],[6000,0,\"Manual\"],[46500,0,\"Manual\"],[11500,0,\"Manual\"],[40000,0,\"Manual\"],[1300,0,\"Manual\"],[7000,0,\"Manual\"],[3000,0,\"Manual\"],[5000,0,\"Manual\"],[11000,0,\"Manual\"],[18000,0,\"Manual\"],[3500,0,\"Manual\"],[500,0,\"Manual\"],[11800,0,\"Manual\"],[5000,0,\"Manual\"],[23500,0,\"Manual\"],[16000,0,\"Manual\"],[15000,0,\"Manual\"],[16600,0,\"Manual\"],[32000,0,\"Manual\"],[20000,0,\"Manual\"],[29000,0,\"Manual\"],[25000,0,\"Manual\"],[25000,0,\"Manual\"],[19000,0,\"Manual\"],[15000,0,\"Manual\"],[58000,0,\"Manual\"],[45000,0,\"Manual\"],[24000,0,\"Manual\"],[6000,0,\"Manual\"],[31000,0,\"Manual\"],[13000,0,\"Manual\"],[45000,0,\"Manual\"],[8000,0,\"Manual\"],[4300,0,\"Automatic\"],[15000,0,\"Manual\"],[23000,0,\"Manual\"],[8600,0,\"Manual\"],[4000,0,\"Automatic\"],[24000,0,\"Manual\"],[23000,0,\"Manual\"],[14500,0,\"Manual\"],[27000,0,\"Manual\"],[14000,0,\"Manual\"],[500,0,\"Automatic\"],[1000,0,\"Manual\"],[42000,0,\"Manual\"],[12000,0,\"Manual\"],[14000,0,\"Manual\"],[5500,0,\"Manual\"],[6700,0,\"Manual\"],[13700,0,\"Manual\"],[1300,0,\"Automatic\"],[38600,0,\"Manual\"],[75000,0,\"Manual\"],[30000,0,\"Manual\"],[24000,0,\"Automatic\"],[19000,0,\"Automatic\"],[213000,0,\"Manual\"],[60000,0,\"Manual\"],[50000,0,\"Manual\"],[30000,0,\"Manual\"],[21000,0,\"Manual\"],[26000,1,\"Manual\"],[1900,0,\"Automatic\"],[22000,0,\"Automatic\"],[32000,0,\"Manual\"],[18000,0,\"Manual\"],[55000,0,\"Manual\"],[60000,0,\"Manual\"],[25000,1,\"Manual\"],[49000,1,\"Manual\"],[24000,1,\"Manual\"],[50000,0,\"Manual\"],[35000,0,\"Manual\"],[500000,0,\"Automatic\"],[33000,0,\"Manual\"],[35000,1,\"Manual\"],[53000,0,\"Manual\"],[92233,0,\"Manual\"],[28200,0,\"Manual\"],[53460,0,\"Manual\"],[28282,0,\"Manual\"],[3493,1,\"Manual\"],[12479,0,\"Manual\"],[34797,0,\"Automatic\"],[3435,0,\"Manual\"],[35775,0,\"Manual\"],[22671,0,\"Manual\"],[31604,0,\"Manual\"],[20114,0,\"Manual\"],[36100,0,\"Manual\"],[12500,0,\"Manual\"],[15000,0,\"Manual\"],[45078,0,\"Manual\"],[36000,0,\"Manual\"],[38488,0,\"Manual\"],[32000,0,\"Automatic\"],[36198,0,\"Automatic\"],[22517,0,\"Manual\"],[24678,0,\"Manual\"],[57000,0,\"Manual\"],[15001,0,\"Manual\"],[12900,0,\"Automatic\"],[4492,0,\"Manual\"],[15141,0,\"Manual\"],[11849,0,\"Manual\"],[60241,0,\"Manual\"],[23709,0,\"Manual\"],[35866,1,\"Manual\"],[34000,0,\"Manual\"],[7000,0,\"Manual\"],[35000,0,\"Manual\"],[36000,0,\"Manual\"],[30000,0,\"Manual\"],[17000,0,\"Manual\"],[56701,0,\"Manual\"],[31427,0,\"Automatic\"],[54242,0,\"Manual\"],[53675,0,\"Manual\"],[49562,0,\"Manual\"],[40324,0,\"Manual\"],[25000,0,\"Manual\"],[36054,0,\"Manual\"],[29223,0,\"Manual\"],[5600,0,\"Manual\"],[40023,0,\"Manual\"],[16002,0,\"Manual\"],[40026,0,\"Manual\"],[21200,0,\"Manual\"],[35000,0,\"Manual\"],[19000,0,\"Manual\"],[18828,0,\"Manual\"],[69341,0,\"Manual\"],[69562,0,\"Manual\"],[27600,0,\"Manual\"],[61203,0,\"Manual\"],[16500,0,\"Manual\"],[30753,0,\"Automatic\"],[24800,0,\"Manual\"],[21780,0,\"Manual\"],[4000,0,\"Manual\"],[40126,0,\"Manual\"],[14465,0,\"Manual\"],[50456,0,\"Manual\"],[9010,0,\"Manual\"],[9800,0,\"Manual\"],[15059,0,\"Automatic\"],[28569,0,\"Manual\"],[44000,0,\"Automatic\"],[34000,0,\"Manual\"],[10980,0,\"Manual\"],[19000,0,\"Manual\"],[31427,0,\"Manual\"],[12000,0,\"Manual\"],[38000,0,\"Manual\"],[33019,0,\"Manual\"],[60000,0,\"Manual\"],[87934,0,\"Manual\"],[5464,0,\"Manual\"]],\"hovertemplate\":\"Fuel_Type=Petrol\\u003cbr\\u003ePresent_Price=%{x}\\u003cbr\\u003eSelling_Price=%{y}\\u003cbr\\u003eCar_Age=%{marker.size}\\u003cbr\\u003eDriven_kms=%{customdata[0]}\\u003cbr\\u003eOwner=%{customdata[1]}\\u003cbr\\u003eTransmission=%{customdata[2]}\\u003cextra\\u003e\\u003c\\u002fextra\\u003e\",\"legendgroup\":\"Petrol\",\"marker\":{\"color\":\"#636efa\",\"size\":[11,8,14,10,8,10,10,16,15,9,8,14,11,12,14,12,8,15,14,10,22,9,22,9,11,17,13,11,12,19,10,8,20,16,10,15,11,12,10,8,14,9,12,14,10,12,21,15,19,13,12,11,16,20,17,13,8,12,9,8,8,8,8,10,11,12,9,8,9,9,11,9,10,10,12,10,10,12,9,14,9,12,13,16,8,9,8,8,8,10,8,9,8,10,11,12,9,10,12,9,10,9,11,13,11,10,15,9,14,9,13,12,11,8,8,10,8,8,14,11,13,15,9,9,9,11,12,10,13,10,11,8,10,14,14,9,11,15,13,9,12,12,17,17,15,12,12,20,17,13,18,12,17,10,17,15,14,18,19,10,14,10,9,8,10,8,13,9,14,8,13,9,9,11,13,8,12,12,14,10,14,8,10,10,8,9,12,13,10,11,9,13,10,12,9,12,10,12,13,9,10,10,11,9,9,10,9,10,8,11,8,10,14,16,10,15,11,9,10,10,9,11,10,19,9,12,9,9,10,10,9,11,10,9,15,11,10,16,9],\"sizemode\":\"area\",\"sizeref\":0.055,\"symbol\":\"circle\"},\"mode\":\"markers\",\"name\":\"Petrol\",\"orientation\":\"v\",\"showlegend\":true,\"x\":[5.59,9.85,4.15,8.12,3.6,9.94,7.71,7.21,7.98,3.95,5.71,8.01,3.46,4.41,4.99,5.87,6.49,3.95,4.89,7.2,2.28,3.76,7.98,7.87,3.98,7.15,2.69,12.04,4.89,4.15,7.71,9.29,10.21,15.04,7.27,18.54,6.8,18.61,7.7,23.15,13.74,20.91,18.61,5.71,6.8,14.68,12.35,22.83,23.73,13.74,6.05,6.76,18.61,13.7,22.78,18.61,18.64,18.61,1.9,1.82,1.78,1.6,1.47,2.37,3.45,1.5,1.5,1.47,1.78,1.5,2.4,1.4,1.47,1.47,1.47,1.9,1.47,1.9,1.26,1.5,1.17,1.47,1.75,1.75,0.95,0.8,0.87,0.84,0.87,0.82,0.95,0.95,0.81,0.74,1.2,0.787,0.87,0.95,1.2,0.8,0.84,0.84,0.99,0.81,0.787,0.84,0.94,0.94,0.826,0.55,0.99,0.99,0.88,0.51,0.52,0.84,0.54,0.51,0.95,0.826,0.99,0.95,0.54,0.54,0.55,0.81,0.73,0.54,0.83,0.55,0.64,0.51,0.72,0.787,1.05,0.57,0.52,1.05,0.51,0.48,0.58,0.47,0.75,0.58,0.52,0.51,0.57,0.57,0.75,0.57,0.75,0.65,0.787,0.32,0.52,0.51,0.57,0.58,0.75,5.7,4.6,4.43,5.7,7.13,5.7,8.1,4.6,13.6,6.79,5.7,9.4,4.43,4.43,8.4,9.4,5.43,6.79,9.4,4.6,5.7,4.43,9.4,14.79,5.7,9.4,4.43,9.4,4.43,7.13,7.13,7.6,6.79,9.4,4.6,7.6,9.9,6.82,9.9,5.35,13.6,13.6,13.6,7.0,13.6,5.97,5.8,7.7,7.0,8.7,7.0,5.8,10.0,10.0,10.0,10.0,7.5,6.8,13.6,13.6,13.6,8.4,13.6,5.9,7.6,11.8,5.9,8.5,7.9,7.5,13.6,13.6,6.4,6.1,8.4,9.9,6.8,5.9,11.0,5.9],\"xaxis\":\"x\",\"y\":[3.35,7.25,2.85,6.75,2.85,7.5,6.1,2.25,2.65,2.85,4.9,4.4,2.5,2.9,3.0,4.15,6.0,1.95,2.35,4.65,0.35,3.0,2.25,5.85,2.55,1.95,1.25,7.5,2.65,1.05,5.8,7.75,2.75,3.6,4.5,4.75,4.1,6.95,4.5,19.75,4.35,14.25,7.45,2.65,3.95,5.5,1.5,5.25,2.5,5.9,3.45,4.75,3.8,3.51,4.0,5.85,17.0,7.05,1.75,1.7,1.65,1.45,1.35,1.35,1.35,1.25,1.2,1.2,1.2,1.15,1.15,1.15,1.15,1.11,1.1,1.1,1.1,1.05,1.05,1.05,1.05,1.0,0.95,0.9,0.9,0.75,0.8,0.78,0.75,0.75,0.75,0.72,0.65,0.65,0.65,0.65,0.6,0.6,0.6,0.6,0.6,0.6,0.6,0.6,0.55,0.55,0.52,0.51,0.5,0.5,0.5,0.5,0.5,0.48,0.48,0.48,0.48,0.45,0.45,0.45,0.45,0.45,0.45,0.45,0.45,0.42,0.42,0.4,0.4,0.4,0.4,0.4,0.38,0.38,0.35,0.35,0.35,0.31,0.3,0.3,0.3,0.27,0.25,0.25,0.25,0.25,0.25,0.2,0.2,0.2,0.2,0.2,0.2,0.18,0.17,0.16,0.15,0.12,0.1,4.4,2.95,2.75,5.25,5.75,5.15,7.9,3.1,11.25,2.9,5.25,4.5,2.9,3.15,6.45,4.5,3.5,4.5,5.11,2.7,5.25,2.55,9.25,11.45,5.5,9.1,3.1,4.8,2.0,4.75,4.4,6.25,3.75,5.95,4.0,5.25,5.0,5.4,5.25,3.0,10.25,8.5,8.4,3.9,9.15,5.5,4.0,6.6,4.0,6.5,3.65,4.8,6.7,4.1,3.0,7.5,2.25,5.3,10.9,8.65,9.7,6.0,6.25,5.25,2.1,8.99,3.5,7.4,5.65,5.75,8.4,10.11,4.5,5.4,6.4,3.25,3.75,4.0,3.35,5.3],\"yaxis\":\"y\",\"type\":\"scatter\"},{\"customdata\":[[43000,0,\"Manual\"],[42450,0,\"Manual\"],[2071,0,\"Manual\"],[33429,0,\"Manual\"],[20273,0,\"Manual\"],[42367,0,\"Manual\"],[51000,0,\"Manual\"],[43000,0,\"Manual\"],[41678,0,\"Manual\"],[43000,0,\"Manual\"],[45000,0,\"Manual\"],[51439,0,\"Manual\"],[39000,0,\"Manual\"],[45000,0,\"Manual\"],[45000,0,\"Manual\"],[45780,0,\"Manual\"],[104707,0,\"Automatic\"],[40000,0,\"Automatic\"],[15000,0,\"Automatic\"],[135000,0,\"Automatic\"],[41000,0,\"Automatic\"],[78000,0,\"Automatic\"],[47000,0,\"Automatic\"],[6000,0,\"Automatic\"],[45000,0,\"Manual\"],[59000,0,\"Manual\"],[71000,0,\"Manual\"],[45000,0,\"Manual\"],[83000,0,\"Manual\"],[89000,0,\"Automatic\"],[23000,0,\"Manual\"],[40000,0,\"Manual\"],[15000,0,\"Automatic\"],[38000,0,\"Manual\"],[197176,0,\"Manual\"],[78000,0,\"Manual\"],[58242,0,\"Manual\"],[40000,0,\"Automatic\"],[29000,0,\"Automatic\"],[50024,0,\"Manual\"],[58000,1,\"Manual\"],[21125,0,\"Manual\"],[43535,0,\"Manual\"],[77632,0,\"Manual\"],[61381,0,\"Manual\"],[60000,0,\"Manual\"],[52132,0,\"Manual\"],[45000,0,\"Manual\"],[53000,0,\"Manual\"],[68000,0,\"Manual\"],[32322,0,\"Manual\"],[49000,0,\"Manual\"],[71000,0,\"Manual\"],[35934,0,\"Manual\"],[48000,0,\"Manual\"],[19434,0,\"Manual\"],[63000,0,\"Manual\"],[60076,0,\"Manual\"],[33988,0,\"Manual\"],[9000,0,\"Manual\"]],\"hovertemplate\":\"Fuel_Type=Diesel\\u003cbr\\u003ePresent_Price=%{x}\\u003cbr\\u003eSelling_Price=%{y}\\u003cbr\\u003eCar_Age=%{marker.size}\\u003cbr\\u003eDriven_kms=%{customdata[0]}\\u003cbr\\u003eOwner=%{customdata[1]}\\u003cbr\\u003eTransmission=%{customdata[2]}\\u003cextra\\u003e\\u003c\\u002fextra\\u003e\",\"legendgroup\":\"Diesel\",\"marker\":{\"color\":\"#EF553B\",\"size\":[12,11,7,10,9,10,10,9,10,9,10,13,11,11,11,11,13,10,8,12,11,11,10,8,11,15,11,14,11,13,9,10,8,10,20,15,11,10,9,15,15,10,10,11,10,13,13,12,12,10,13,12,13,9,11,9,11,10,9,8],\"sizemode\":\"area\",\"sizeref\":0.055,\"symbol\":\"circle\"},\"mode\":\"markers\",\"name\":\"Diesel\",\"orientation\":\"v\",\"showlegend\":true,\"x\":[9.54,6.87,9.83,8.61,8.89,8.92,10.38,10.79,10.79,10.79,10.38,5.98,7.49,9.95,8.06,8.06,30.61,30.61,19.77,30.61,35.96,35.96,35.96,36.23,6.95,20.45,6.76,12.48,8.93,30.61,14.89,7.85,25.39,13.46,13.46,92.6,16.09,30.61,25.39,20.45,6.79,5.7,14.79,7.6,9.4,9.4,6.79,9.4,5.7,13.6,9.4,9.4,9.4,13.6,9.9,9.4,14.0,13.09,11.6,12.5],\"xaxis\":\"x\",\"y\":[4.75,4.6,9.25,6.5,8.75,7.45,6.85,7.75,7.25,7.75,7.45,3.1,4.95,6.0,5.5,5.5,14.9,23.0,18.0,16.0,19.99,18.75,23.5,33.0,4.75,9.25,3.95,4.5,4.9,14.5,14.73,4.75,23.0,12.5,3.49,35.0,11.25,23.0,20.75,9.65,3.25,4.85,11.75,6.0,8.25,4.95,3.1,6.15,3.9,11.25,5.35,5.95,5.2,12.9,7.2,8.35,8.25,8.55,9.5,11.5],\"yaxis\":\"y\",\"type\":\"scatter\"},{\"customdata\":[[35500,0,\"Manual\"],[49998,0,\"Manual\"]],\"hovertemplate\":\"Fuel_Type=CNG\\u003cbr\\u003ePresent_Price=%{x}\\u003cbr\\u003eSelling_Price=%{y}\\u003cbr\\u003eCar_Age=%{marker.size}\\u003cbr\\u003eDriven_kms=%{customdata[0]}\\u003cbr\\u003eOwner=%{customdata[1]}\\u003cbr\\u003eTransmission=%{customdata[2]}\\u003cextra\\u003e\\u003c\\u002fextra\\u003e\",\"legendgroup\":\"CNG\",\"marker\":{\"color\":\"#00cc96\",\"size\":[10,14],\"sizemode\":\"area\",\"sizeref\":0.055,\"symbol\":\"circle\"},\"mode\":\"markers\",\"name\":\"CNG\",\"orientation\":\"v\",\"showlegend\":true,\"x\":[5.09,7.74],\"xaxis\":\"x\",\"y\":[3.25,2.95],\"yaxis\":\"y\",\"type\":\"scatter\"}],                        {\"template\":{\"data\":{\"histogram2dcontour\":[{\"type\":\"histogram2dcontour\",\"colorbar\":{\"outlinewidth\":0,\"ticks\":\"\"},\"colorscale\":[[0.0,\"#0d0887\"],[0.1111111111111111,\"#46039f\"],[0.2222222222222222,\"#7201a8\"],[0.3333333333333333,\"#9c179e\"],[0.4444444444444444,\"#bd3786\"],[0.5555555555555556,\"#d8576b\"],[0.6666666666666666,\"#ed7953\"],[0.7777777777777778,\"#fb9f3a\"],[0.8888888888888888,\"#fdca26\"],[1.0,\"#f0f921\"]]}],\"choropleth\":[{\"type\":\"choropleth\",\"colorbar\":{\"outlinewidth\":0,\"ticks\":\"\"}}],\"histogram2d\":[{\"type\":\"histogram2d\",\"colorbar\":{\"outlinewidth\":0,\"ticks\":\"\"},\"colorscale\":[[0.0,\"#0d0887\"],[0.1111111111111111,\"#46039f\"],[0.2222222222222222,\"#7201a8\"],[0.3333333333333333,\"#9c179e\"],[0.4444444444444444,\"#bd3786\"],[0.5555555555555556,\"#d8576b\"],[0.6666666666666666,\"#ed7953\"],[0.7777777777777778,\"#fb9f3a\"],[0.8888888888888888,\"#fdca26\"],[1.0,\"#f0f921\"]]}],\"heatmap\":[{\"type\":\"heatmap\",\"colorbar\":{\"outlinewidth\":0,\"ticks\":\"\"},\"colorscale\":[[0.0,\"#0d0887\"],[0.1111111111111111,\"#46039f\"],[0.2222222222222222,\"#7201a8\"],[0.3333333333333333,\"#9c179e\"],[0.4444444444444444,\"#bd3786\"],[0.5555555555555556,\"#d8576b\"],[0.6666666666666666,\"#ed7953\"],[0.7777777777777778,\"#fb9f3a\"],[0.8888888888888888,\"#fdca26\"],[1.0,\"#f0f921\"]]}],\"heatmapgl\":[{\"type\":\"heatmapgl\",\"colorbar\":{\"outlinewidth\":0,\"ticks\":\"\"},\"colorscale\":[[0.0,\"#0d0887\"],[0.1111111111111111,\"#46039f\"],[0.2222222222222222,\"#7201a8\"],[0.3333333333333333,\"#9c179e\"],[0.4444444444444444,\"#bd3786\"],[0.5555555555555556,\"#d8576b\"],[0.6666666666666666,\"#ed7953\"],[0.7777777777777778,\"#fb9f3a\"],[0.8888888888888888,\"#fdca26\"],[1.0,\"#f0f921\"]]}],\"contourcarpet\":[{\"type\":\"contourcarpet\",\"colorbar\":{\"outlinewidth\":0,\"ticks\":\"\"}}],\"contour\":[{\"type\":\"contour\",\"colorbar\":{\"outlinewidth\":0,\"ticks\":\"\"},\"colorscale\":[[0.0,\"#0d0887\"],[0.1111111111111111,\"#46039f\"],[0.2222222222222222,\"#7201a8\"],[0.3333333333333333,\"#9c179e\"],[0.4444444444444444,\"#bd3786\"],[0.5555555555555556,\"#d8576b\"],[0.6666666666666666,\"#ed7953\"],[0.7777777777777778,\"#fb9f3a\"],[0.8888888888888888,\"#fdca26\"],[1.0,\"#f0f921\"]]}],\"surface\":[{\"type\":\"surface\",\"colorbar\":{\"outlinewidth\":0,\"ticks\":\"\"},\"colorscale\":[[0.0,\"#0d0887\"],[0.1111111111111111,\"#46039f\"],[0.2222222222222222,\"#7201a8\"],[0.3333333333333333,\"#9c179e\"],[0.4444444444444444,\"#bd3786\"],[0.5555555555555556,\"#d8576b\"],[0.6666666666666666,\"#ed7953\"],[0.7777777777777778,\"#fb9f3a\"],[0.8888888888888888,\"#fdca26\"],[1.0,\"#f0f921\"]]}],\"mesh3d\":[{\"type\":\"mesh3d\",\"colorbar\":{\"outlinewidth\":0,\"ticks\":\"\"}}],\"scatter\":[{\"fillpattern\":{\"fillmode\":\"overlay\",\"size\":10,\"solidity\":0.2},\"type\":\"scatter\"}],\"parcoords\":[{\"type\":\"parcoords\",\"line\":{\"colorbar\":{\"outlinewidth\":0,\"ticks\":\"\"}}}],\"scatterpolargl\":[{\"type\":\"scatterpolargl\",\"marker\":{\"colorbar\":{\"outlinewidth\":0,\"ticks\":\"\"}}}],\"bar\":[{\"error_x\":{\"color\":\"#2a3f5f\"},\"error_y\":{\"color\":\"#2a3f5f\"},\"marker\":{\"line\":{\"color\":\"#E5ECF6\",\"width\":0.5},\"pattern\":{\"fillmode\":\"overlay\",\"size\":10,\"solidity\":0.2}},\"type\":\"bar\"}],\"scattergeo\":[{\"type\":\"scattergeo\",\"marker\":{\"colorbar\":{\"outlinewidth\":0,\"ticks\":\"\"}}}],\"scatterpolar\":[{\"type\":\"scatterpolar\",\"marker\":{\"colorbar\":{\"outlinewidth\":0,\"ticks\":\"\"}}}],\"histogram\":[{\"marker\":{\"pattern\":{\"fillmode\":\"overlay\",\"size\":10,\"solidity\":0.2}},\"type\":\"histogram\"}],\"scattergl\":[{\"type\":\"scattergl\",\"marker\":{\"colorbar\":{\"outlinewidth\":0,\"ticks\":\"\"}}}],\"scatter3d\":[{\"type\":\"scatter3d\",\"line\":{\"colorbar\":{\"outlinewidth\":0,\"ticks\":\"\"}},\"marker\":{\"colorbar\":{\"outlinewidth\":0,\"ticks\":\"\"}}}],\"scattermapbox\":[{\"type\":\"scattermapbox\",\"marker\":{\"colorbar\":{\"outlinewidth\":0,\"ticks\":\"\"}}}],\"scatterternary\":[{\"type\":\"scatterternary\",\"marker\":{\"colorbar\":{\"outlinewidth\":0,\"ticks\":\"\"}}}],\"scattercarpet\":[{\"type\":\"scattercarpet\",\"marker\":{\"colorbar\":{\"outlinewidth\":0,\"ticks\":\"\"}}}],\"carpet\":[{\"aaxis\":{\"endlinecolor\":\"#2a3f5f\",\"gridcolor\":\"white\",\"linecolor\":\"white\",\"minorgridcolor\":\"white\",\"startlinecolor\":\"#2a3f5f\"},\"baxis\":{\"endlinecolor\":\"#2a3f5f\",\"gridcolor\":\"white\",\"linecolor\":\"white\",\"minorgridcolor\":\"white\",\"startlinecolor\":\"#2a3f5f\"},\"type\":\"carpet\"}],\"table\":[{\"cells\":{\"fill\":{\"color\":\"#EBF0F8\"},\"line\":{\"color\":\"white\"}},\"header\":{\"fill\":{\"color\":\"#C8D4E3\"},\"line\":{\"color\":\"white\"}},\"type\":\"table\"}],\"barpolar\":[{\"marker\":{\"line\":{\"color\":\"#E5ECF6\",\"width\":0.5},\"pattern\":{\"fillmode\":\"overlay\",\"size\":10,\"solidity\":0.2}},\"type\":\"barpolar\"}],\"pie\":[{\"automargin\":true,\"type\":\"pie\"}]},\"layout\":{\"autotypenumbers\":\"strict\",\"colorway\":[\"#636efa\",\"#EF553B\",\"#00cc96\",\"#ab63fa\",\"#FFA15A\",\"#19d3f3\",\"#FF6692\",\"#B6E880\",\"#FF97FF\",\"#FECB52\"],\"font\":{\"color\":\"#2a3f5f\"},\"hovermode\":\"closest\",\"hoverlabel\":{\"align\":\"left\"},\"paper_bgcolor\":\"white\",\"plot_bgcolor\":\"#E5ECF6\",\"polar\":{\"bgcolor\":\"#E5ECF6\",\"angularaxis\":{\"gridcolor\":\"white\",\"linecolor\":\"white\",\"ticks\":\"\"},\"radialaxis\":{\"gridcolor\":\"white\",\"linecolor\":\"white\",\"ticks\":\"\"}},\"ternary\":{\"bgcolor\":\"#E5ECF6\",\"aaxis\":{\"gridcolor\":\"white\",\"linecolor\":\"white\",\"ticks\":\"\"},\"baxis\":{\"gridcolor\":\"white\",\"linecolor\":\"white\",\"ticks\":\"\"},\"caxis\":{\"gridcolor\":\"white\",\"linecolor\":\"white\",\"ticks\":\"\"}},\"coloraxis\":{\"colorbar\":{\"outlinewidth\":0,\"ticks\":\"\"}},\"colorscale\":{\"sequential\":[[0.0,\"#0d0887\"],[0.1111111111111111,\"#46039f\"],[0.2222222222222222,\"#7201a8\"],[0.3333333333333333,\"#9c179e\"],[0.4444444444444444,\"#bd3786\"],[0.5555555555555556,\"#d8576b\"],[0.6666666666666666,\"#ed7953\"],[0.7777777777777778,\"#fb9f3a\"],[0.8888888888888888,\"#fdca26\"],[1.0,\"#f0f921\"]],\"sequentialminus\":[[0.0,\"#0d0887\"],[0.1111111111111111,\"#46039f\"],[0.2222222222222222,\"#7201a8\"],[0.3333333333333333,\"#9c179e\"],[0.4444444444444444,\"#bd3786\"],[0.5555555555555556,\"#d8576b\"],[0.6666666666666666,\"#ed7953\"],[0.7777777777777778,\"#fb9f3a\"],[0.8888888888888888,\"#fdca26\"],[1.0,\"#f0f921\"]],\"diverging\":[[0,\"#8e0152\"],[0.1,\"#c51b7d\"],[0.2,\"#de77ae\"],[0.3,\"#f1b6da\"],[0.4,\"#fde0ef\"],[0.5,\"#f7f7f7\"],[0.6,\"#e6f5d0\"],[0.7,\"#b8e186\"],[0.8,\"#7fbc41\"],[0.9,\"#4d9221\"],[1,\"#276419\"]]},\"xaxis\":{\"gridcolor\":\"white\",\"linecolor\":\"white\",\"ticks\":\"\",\"title\":{\"standoff\":15},\"zerolinecolor\":\"white\",\"automargin\":true,\"zerolinewidth\":2},\"yaxis\":{\"gridcolor\":\"white\",\"linecolor\":\"white\",\"ticks\":\"\",\"title\":{\"standoff\":15},\"zerolinecolor\":\"white\",\"automargin\":true,\"zerolinewidth\":2},\"scene\":{\"xaxis\":{\"backgroundcolor\":\"#E5ECF6\",\"gridcolor\":\"white\",\"linecolor\":\"white\",\"showbackground\":true,\"ticks\":\"\",\"zerolinecolor\":\"white\",\"gridwidth\":2},\"yaxis\":{\"backgroundcolor\":\"#E5ECF6\",\"gridcolor\":\"white\",\"linecolor\":\"white\",\"showbackground\":true,\"ticks\":\"\",\"zerolinecolor\":\"white\",\"gridwidth\":2},\"zaxis\":{\"backgroundcolor\":\"#E5ECF6\",\"gridcolor\":\"white\",\"linecolor\":\"white\",\"showbackground\":true,\"ticks\":\"\",\"zerolinecolor\":\"white\",\"gridwidth\":2}},\"shapedefaults\":{\"line\":{\"color\":\"#2a3f5f\"}},\"annotationdefaults\":{\"arrowcolor\":\"#2a3f5f\",\"arrowhead\":0,\"arrowwidth\":1},\"geo\":{\"bgcolor\":\"white\",\"landcolor\":\"#E5ECF6\",\"subunitcolor\":\"white\",\"showland\":true,\"showlakes\":true,\"lakecolor\":\"white\"},\"title\":{\"x\":0.05},\"mapbox\":{\"style\":\"light\"}}},\"xaxis\":{\"anchor\":\"y\",\"domain\":[0.0,1.0],\"title\":{\"text\":\"Present Price \"}},\"yaxis\":{\"anchor\":\"x\",\"domain\":[0.0,1.0],\"title\":{\"text\":\"Selling Price \"}},\"legend\":{\"title\":{\"text\":\"Fuel_Type\"},\"tracegroupgap\":0,\"itemsizing\":\"constant\"},\"margin\":{\"t\":60},\"title\":{\"text\":\"Car Comparison: Present vs Selling Price\"}},                        {\"responsive\": true}                    ).then(function(){\n",
       "                            \n",
       "var gd = document.getElementById('510a1a16-4f2e-4cf3-8e0e-7db4f207633a');\n",
       "var x = new MutationObserver(function (mutations, observer) {{\n",
       "        var display = window.getComputedStyle(gd).display;\n",
       "        if (!display || display === 'none') {{\n",
       "            console.log([gd, 'removed!']);\n",
       "            Plotly.purge(gd);\n",
       "            observer.disconnect();\n",
       "        }}\n",
       "}});\n",
       "\n",
       "// Listen for the removal of the full notebook cells\n",
       "var notebookContainer = gd.closest('#notebook-container');\n",
       "if (notebookContainer) {{\n",
       "    x.observe(notebookContainer, {childList: true});\n",
       "}}\n",
       "\n",
       "// Listen for the clearing of the current output cell\n",
       "var outputEl = gd.closest('.output');\n",
       "if (outputEl) {{\n",
       "    x.observe(outputEl, {childList: true});\n",
       "}}\n",
       "\n",
       "                        })                };                            </script>        </div>\n",
       "</body>\n",
       "</html>"
      ]
     },
     "metadata": {},
     "output_type": "display_data"
    }
   ],
   "source": [
    "df['Car_Age'] = 2025 - df['Year']\n",
    "import plotly.express as px\n",
    "\n",
    "fig = px.scatter(df, \n",
    "                 x='Present_Price', \n",
    "                 y='Selling_Price',\n",
    "                 color='Fuel_Type',\n",
    "                 size='Car_Age',\n",
    "                 hover_data=['Driven_kms', 'Owner', 'Transmission'])\n",
    "fig.update_layout(title='Car Comparison: Present vs Selling Price',\n",
    "                  xaxis_title='Present Price ',\n",
    "                  yaxis_title='Selling Price ')\n",
    "fig.show()"
   ]
  },
  {
   "cell_type": "code",
   "execution_count": 18,
   "id": "ea7821ee",
   "metadata": {
    "execution": {
     "iopub.execute_input": "2025-06-26T13:40:38.329965Z",
     "iopub.status.busy": "2025-06-26T13:40:38.329025Z",
     "iopub.status.idle": "2025-06-26T13:40:38.351081Z",
     "shell.execute_reply": "2025-06-26T13:40:38.350051Z"
    },
    "papermill": {
     "duration": 0.0328,
     "end_time": "2025-06-26T13:40:38.352813",
     "exception": false,
     "start_time": "2025-06-26T13:40:38.320013",
     "status": "completed"
    },
    "tags": []
   },
   "outputs": [
    {
     "data": {
      "text/html": [
       "<style type=\"text/css\">\n",
       "#T_f32c5_row0_col1, #T_f32c5_row0_col2, #T_f32c5_row0_col3, #T_f32c5_row9_col3 {\n",
       "  background-color: #08306b;\n",
       "  color: #f1f1f1;\n",
       "}\n",
       "#T_f32c5_row0_col4, #T_f32c5_row1_col3, #T_f32c5_row1_col4, #T_f32c5_row2_col4, #T_f32c5_row3_col4, #T_f32c5_row4_col4, #T_f32c5_row5_col4, #T_f32c5_row6_col4, #T_f32c5_row7_col4, #T_f32c5_row8_col1, #T_f32c5_row8_col4, #T_f32c5_row9_col2, #T_f32c5_row9_col4 {\n",
       "  background-color: #f7fbff;\n",
       "  color: #000000;\n",
       "}\n",
       "#T_f32c5_row1_col1 {\n",
       "  background-color: #d2e3f3;\n",
       "  color: #000000;\n",
       "}\n",
       "#T_f32c5_row1_col2 {\n",
       "  background-color: #08509b;\n",
       "  color: #f1f1f1;\n",
       "}\n",
       "#T_f32c5_row2_col1, #T_f32c5_row7_col1, #T_f32c5_row9_col1 {\n",
       "  background-color: #d3e3f3;\n",
       "  color: #000000;\n",
       "}\n",
       "#T_f32c5_row2_col2 {\n",
       "  background-color: #b9d6ea;\n",
       "  color: #000000;\n",
       "}\n",
       "#T_f32c5_row2_col3 {\n",
       "  background-color: #549fcd;\n",
       "  color: #f1f1f1;\n",
       "}\n",
       "#T_f32c5_row3_col1, #T_f32c5_row6_col1 {\n",
       "  background-color: #f1f7fd;\n",
       "  color: #000000;\n",
       "}\n",
       "#T_f32c5_row3_col2, #T_f32c5_row4_col2, #T_f32c5_row5_col2 {\n",
       "  background-color: #c3daee;\n",
       "  color: #000000;\n",
       "}\n",
       "#T_f32c5_row3_col3 {\n",
       "  background-color: #deebf7;\n",
       "  color: #000000;\n",
       "}\n",
       "#T_f32c5_row4_col1, #T_f32c5_row5_col1 {\n",
       "  background-color: #e2edf8;\n",
       "  color: #000000;\n",
       "}\n",
       "#T_f32c5_row4_col3, #T_f32c5_row5_col3 {\n",
       "  background-color: #77b5d9;\n",
       "  color: #000000;\n",
       "}\n",
       "#T_f32c5_row6_col2 {\n",
       "  background-color: #dfebf7;\n",
       "  color: #000000;\n",
       "}\n",
       "#T_f32c5_row6_col3 {\n",
       "  background-color: #b0d2e7;\n",
       "  color: #000000;\n",
       "}\n",
       "#T_f32c5_row7_col2 {\n",
       "  background-color: #e8f1fa;\n",
       "  color: #000000;\n",
       "}\n",
       "#T_f32c5_row7_col3 {\n",
       "  background-color: #71b1d7;\n",
       "  color: #f1f1f1;\n",
       "}\n",
       "#T_f32c5_row8_col2 {\n",
       "  background-color: #ebf3fb;\n",
       "  color: #000000;\n",
       "}\n",
       "#T_f32c5_row8_col3 {\n",
       "  background-color: #eaf2fb;\n",
       "  color: #000000;\n",
       "}\n",
       "</style>\n",
       "<table id=\"T_f32c5\">\n",
       "  <caption>Top 10 Highest Selling Cars</caption>\n",
       "  <thead>\n",
       "    <tr>\n",
       "      <th class=\"blank level0\" >&nbsp;</th>\n",
       "      <th id=\"T_f32c5_level0_col0\" class=\"col_heading level0 col0\" >Car_Name</th>\n",
       "      <th id=\"T_f32c5_level0_col1\" class=\"col_heading level0 col1\" >Present_Price</th>\n",
       "      <th id=\"T_f32c5_level0_col2\" class=\"col_heading level0 col2\" >Selling_Price</th>\n",
       "      <th id=\"T_f32c5_level0_col3\" class=\"col_heading level0 col3\" >Driven_kms</th>\n",
       "      <th id=\"T_f32c5_level0_col4\" class=\"col_heading level0 col4\" >Owner</th>\n",
       "      <th id=\"T_f32c5_level0_col5\" class=\"col_heading level0 col5\" >Fuel_Type</th>\n",
       "      <th id=\"T_f32c5_level0_col6\" class=\"col_heading level0 col6\" >Transmission</th>\n",
       "    </tr>\n",
       "  </thead>\n",
       "  <tbody>\n",
       "    <tr>\n",
       "      <th id=\"T_f32c5_level0_row0\" class=\"row_heading level0 row0\" >86</th>\n",
       "      <td id=\"T_f32c5_row0_col0\" class=\"data row0 col0\" >land cruiser</td>\n",
       "      <td id=\"T_f32c5_row0_col1\" class=\"data row0 col1\" >₹ 92.60 L</td>\n",
       "      <td id=\"T_f32c5_row0_col2\" class=\"data row0 col2\" >₹ 35.00 L</td>\n",
       "      <td id=\"T_f32c5_row0_col3\" class=\"data row0 col3\" >78000</td>\n",
       "      <td id=\"T_f32c5_row0_col4\" class=\"data row0 col4\" >0</td>\n",
       "      <td id=\"T_f32c5_row0_col5\" class=\"data row0 col5\" >Diesel</td>\n",
       "      <td id=\"T_f32c5_row0_col6\" class=\"data row0 col6\" >Manual</td>\n",
       "    </tr>\n",
       "    <tr>\n",
       "      <th id=\"T_f32c5_level0_row1\" class=\"row_heading level0 row1\" >64</th>\n",
       "      <td id=\"T_f32c5_row1_col0\" class=\"data row1 col0\" >fortuner</td>\n",
       "      <td id=\"T_f32c5_row1_col1\" class=\"data row1 col1\" >₹ 36.23 L</td>\n",
       "      <td id=\"T_f32c5_row1_col2\" class=\"data row1 col2\" >₹ 33.00 L</td>\n",
       "      <td id=\"T_f32c5_row1_col3\" class=\"data row1 col3\" >6000</td>\n",
       "      <td id=\"T_f32c5_row1_col4\" class=\"data row1 col4\" >0</td>\n",
       "      <td id=\"T_f32c5_row1_col5\" class=\"data row1 col5\" >Diesel</td>\n",
       "      <td id=\"T_f32c5_row1_col6\" class=\"data row1 col6\" >Automatic</td>\n",
       "    </tr>\n",
       "    <tr>\n",
       "      <th id=\"T_f32c5_level0_row2\" class=\"row_heading level0 row2\" >63</th>\n",
       "      <td id=\"T_f32c5_row2_col0\" class=\"data row2 col0\" >fortuner</td>\n",
       "      <td id=\"T_f32c5_row2_col1\" class=\"data row2 col1\" >₹ 35.96 L</td>\n",
       "      <td id=\"T_f32c5_row2_col2\" class=\"data row2 col2\" >₹ 23.50 L</td>\n",
       "      <td id=\"T_f32c5_row2_col3\" class=\"data row2 col3\" >47000</td>\n",
       "      <td id=\"T_f32c5_row2_col4\" class=\"data row2 col4\" >0</td>\n",
       "      <td id=\"T_f32c5_row2_col5\" class=\"data row2 col5\" >Diesel</td>\n",
       "      <td id=\"T_f32c5_row2_col6\" class=\"data row2 col6\" >Automatic</td>\n",
       "    </tr>\n",
       "    <tr>\n",
       "      <th id=\"T_f32c5_level0_row3\" class=\"row_heading level0 row3\" >82</th>\n",
       "      <td id=\"T_f32c5_row3_col0\" class=\"data row3 col0\" >innova</td>\n",
       "      <td id=\"T_f32c5_row3_col1\" class=\"data row3 col1\" >₹ 25.39 L</td>\n",
       "      <td id=\"T_f32c5_row3_col2\" class=\"data row3 col2\" >₹ 23.00 L</td>\n",
       "      <td id=\"T_f32c5_row3_col3\" class=\"data row3 col3\" >15000</td>\n",
       "      <td id=\"T_f32c5_row3_col4\" class=\"data row3 col4\" >0</td>\n",
       "      <td id=\"T_f32c5_row3_col5\" class=\"data row3 col5\" >Diesel</td>\n",
       "      <td id=\"T_f32c5_row3_col6\" class=\"data row3 col6\" >Automatic</td>\n",
       "    </tr>\n",
       "    <tr>\n",
       "      <th id=\"T_f32c5_level0_row4\" class=\"row_heading level0 row4\" >51</th>\n",
       "      <td id=\"T_f32c5_row4_col0\" class=\"data row4 col0\" >fortuner</td>\n",
       "      <td id=\"T_f32c5_row4_col1\" class=\"data row4 col1\" >₹ 30.61 L</td>\n",
       "      <td id=\"T_f32c5_row4_col2\" class=\"data row4 col2\" >₹ 23.00 L</td>\n",
       "      <td id=\"T_f32c5_row4_col3\" class=\"data row4 col3\" >40000</td>\n",
       "      <td id=\"T_f32c5_row4_col4\" class=\"data row4 col4\" >0</td>\n",
       "      <td id=\"T_f32c5_row4_col5\" class=\"data row4 col5\" >Diesel</td>\n",
       "      <td id=\"T_f32c5_row4_col6\" class=\"data row4 col6\" >Automatic</td>\n",
       "    </tr>\n",
       "    <tr>\n",
       "      <th id=\"T_f32c5_level0_row5\" class=\"row_heading level0 row5\" >93</th>\n",
       "      <td id=\"T_f32c5_row5_col0\" class=\"data row5 col0\" >fortuner</td>\n",
       "      <td id=\"T_f32c5_row5_col1\" class=\"data row5 col1\" >₹ 30.61 L</td>\n",
       "      <td id=\"T_f32c5_row5_col2\" class=\"data row5 col2\" >₹ 23.00 L</td>\n",
       "      <td id=\"T_f32c5_row5_col3\" class=\"data row5 col3\" >40000</td>\n",
       "      <td id=\"T_f32c5_row5_col4\" class=\"data row5 col4\" >0</td>\n",
       "      <td id=\"T_f32c5_row5_col5\" class=\"data row5 col5\" >Diesel</td>\n",
       "      <td id=\"T_f32c5_row5_col6\" class=\"data row5 col6\" >Automatic</td>\n",
       "    </tr>\n",
       "    <tr>\n",
       "      <th id=\"T_f32c5_level0_row6\" class=\"row_heading level0 row6\" >96</th>\n",
       "      <td id=\"T_f32c5_row6_col0\" class=\"data row6 col0\" >innova</td>\n",
       "      <td id=\"T_f32c5_row6_col1\" class=\"data row6 col1\" >₹ 25.39 L</td>\n",
       "      <td id=\"T_f32c5_row6_col2\" class=\"data row6 col2\" >₹ 20.75 L</td>\n",
       "      <td id=\"T_f32c5_row6_col3\" class=\"data row6 col3\" >29000</td>\n",
       "      <td id=\"T_f32c5_row6_col4\" class=\"data row6 col4\" >0</td>\n",
       "      <td id=\"T_f32c5_row6_col5\" class=\"data row6 col5\" >Diesel</td>\n",
       "      <td id=\"T_f32c5_row6_col6\" class=\"data row6 col6\" >Automatic</td>\n",
       "    </tr>\n",
       "    <tr>\n",
       "      <th id=\"T_f32c5_level0_row7\" class=\"row_heading level0 row7\" >59</th>\n",
       "      <td id=\"T_f32c5_row7_col0\" class=\"data row7 col0\" >fortuner</td>\n",
       "      <td id=\"T_f32c5_row7_col1\" class=\"data row7 col1\" >₹ 35.96 L</td>\n",
       "      <td id=\"T_f32c5_row7_col2\" class=\"data row7 col2\" >₹ 19.99 L</td>\n",
       "      <td id=\"T_f32c5_row7_col3\" class=\"data row7 col3\" >41000</td>\n",
       "      <td id=\"T_f32c5_row7_col4\" class=\"data row7 col4\" >0</td>\n",
       "      <td id=\"T_f32c5_row7_col5\" class=\"data row7 col5\" >Diesel</td>\n",
       "      <td id=\"T_f32c5_row7_col6\" class=\"data row7 col6\" >Automatic</td>\n",
       "    </tr>\n",
       "    <tr>\n",
       "      <th id=\"T_f32c5_level0_row8\" class=\"row_heading level0 row8\" >66</th>\n",
       "      <td id=\"T_f32c5_row8_col0\" class=\"data row8 col0\" >innova</td>\n",
       "      <td id=\"T_f32c5_row8_col1\" class=\"data row8 col1\" >₹ 23.15 L</td>\n",
       "      <td id=\"T_f32c5_row8_col2\" class=\"data row8 col2\" >₹ 19.75 L</td>\n",
       "      <td id=\"T_f32c5_row8_col3\" class=\"data row8 col3\" >11000</td>\n",
       "      <td id=\"T_f32c5_row8_col4\" class=\"data row8 col4\" >0</td>\n",
       "      <td id=\"T_f32c5_row8_col5\" class=\"data row8 col5\" >Petrol</td>\n",
       "      <td id=\"T_f32c5_row8_col6\" class=\"data row8 col6\" >Automatic</td>\n",
       "    </tr>\n",
       "    <tr>\n",
       "      <th id=\"T_f32c5_level0_row9\" class=\"row_heading level0 row9\" >62</th>\n",
       "      <td id=\"T_f32c5_row9_col0\" class=\"data row9 col0\" >fortuner</td>\n",
       "      <td id=\"T_f32c5_row9_col1\" class=\"data row9 col1\" >₹ 35.96 L</td>\n",
       "      <td id=\"T_f32c5_row9_col2\" class=\"data row9 col2\" >₹ 18.75 L</td>\n",
       "      <td id=\"T_f32c5_row9_col3\" class=\"data row9 col3\" >78000</td>\n",
       "      <td id=\"T_f32c5_row9_col4\" class=\"data row9 col4\" >0</td>\n",
       "      <td id=\"T_f32c5_row9_col5\" class=\"data row9 col5\" >Diesel</td>\n",
       "      <td id=\"T_f32c5_row9_col6\" class=\"data row9 col6\" >Automatic</td>\n",
       "    </tr>\n",
       "  </tbody>\n",
       "</table>\n"
      ],
      "text/plain": [
       "<pandas.io.formats.style.Styler at 0x7d6514c12f90>"
      ]
     },
     "execution_count": 18,
     "metadata": {},
     "output_type": "execute_result"
    }
   ],
   "source": [
    "top_cars = df[['Car_Name', 'Present_Price', 'Selling_Price', 'Driven_kms', 'Owner', 'Fuel_Type', 'Transmission']]\n",
    "top_cars = top_cars.sort_values(by='Selling_Price', ascending=False).head(10)\n",
    "top_cars.style.set_caption(\"Top 10 Highest Selling Cars\") \\\n",
    "       .background_gradient(cmap=\"Blues\") \\\n",
    "       .format({'Present_Price': '₹ {:.2f} L', 'Selling_Price': '₹ {:.2f} L'})"
   ]
  },
  {
   "cell_type": "code",
   "execution_count": 19,
   "id": "73436f86",
   "metadata": {
    "execution": {
     "iopub.execute_input": "2025-06-26T13:40:38.371313Z",
     "iopub.status.busy": "2025-06-26T13:40:38.370971Z",
     "iopub.status.idle": "2025-06-26T13:40:38.388284Z",
     "shell.execute_reply": "2025-06-26T13:40:38.387282Z"
    },
    "papermill": {
     "duration": 0.028366,
     "end_time": "2025-06-26T13:40:38.389882",
     "exception": false,
     "start_time": "2025-06-26T13:40:38.361516",
     "status": "completed"
    },
    "tags": []
   },
   "outputs": [
    {
     "data": {
      "text/html": [
       "<style type=\"text/css\">\n",
       "#T_7b2e4_row0_col4 {\n",
       "  width: 10em;\n",
       "  background: linear-gradient(90deg, #ffa07a 100.0%, transparent 100.0%);\n",
       "}\n",
       "#T_7b2e4_row1_col4 {\n",
       "  width: 10em;\n",
       "  background: linear-gradient(90deg, #ffa07a 98.2%, transparent 98.2%);\n",
       "}\n",
       "#T_7b2e4_row2_col4 {\n",
       "  width: 10em;\n",
       "  background: linear-gradient(90deg, #ffa07a 96.9%, transparent 96.9%);\n",
       "}\n",
       "#T_7b2e4_row3_col4 {\n",
       "  width: 10em;\n",
       "  background: linear-gradient(90deg, #ffa07a 94.6%, transparent 94.6%);\n",
       "}\n",
       "#T_7b2e4_row4_col4 {\n",
       "  width: 10em;\n",
       "  background: linear-gradient(90deg, #ffa07a 92.1%, transparent 92.1%);\n",
       "}\n",
       "#T_7b2e4_row5_col4 {\n",
       "  width: 10em;\n",
       "  background: linear-gradient(90deg, #ffa07a 89.0%, transparent 89.0%);\n",
       "}\n",
       "#T_7b2e4_row6_col4 {\n",
       "  width: 10em;\n",
       "  background: linear-gradient(90deg, #ffa07a 88.6%, transparent 88.6%);\n",
       "}\n",
       "#T_7b2e4_row7_col4 {\n",
       "  width: 10em;\n",
       "  background: linear-gradient(90deg, #ffa07a 86.1%, transparent 86.1%);\n",
       "}\n",
       "#T_7b2e4_row8_col4 {\n",
       "  width: 10em;\n",
       "  background: linear-gradient(90deg, #ffa07a 85.0%, transparent 85.0%);\n",
       "}\n",
       "#T_7b2e4_row9_col4 {\n",
       "  width: 10em;\n",
       "  background: linear-gradient(90deg, #ffa07a 83.5%, transparent 83.5%);\n",
       "}\n",
       "</style>\n",
       "<table id=\"T_7b2e4\">\n",
       "  <caption>Top 10 Cars with Highest Depreciation</caption>\n",
       "  <thead>\n",
       "    <tr>\n",
       "      <th class=\"blank level0\" >&nbsp;</th>\n",
       "      <th id=\"T_7b2e4_level0_col0\" class=\"col_heading level0 col0\" >Car_Name</th>\n",
       "      <th id=\"T_7b2e4_level0_col1\" class=\"col_heading level0 col1\" >Present_Price</th>\n",
       "      <th id=\"T_7b2e4_level0_col2\" class=\"col_heading level0 col2\" >Selling_Price</th>\n",
       "      <th id=\"T_7b2e4_level0_col3\" class=\"col_heading level0 col3\" >Depreciation</th>\n",
       "      <th id=\"T_7b2e4_level0_col4\" class=\"col_heading level0 col4\" >Depreciation_%</th>\n",
       "    </tr>\n",
       "  </thead>\n",
       "  <tbody>\n",
       "    <tr>\n",
       "      <th id=\"T_7b2e4_level0_row0\" class=\"row_heading level0 row0\" >85</th>\n",
       "      <td id=\"T_7b2e4_row0_col0\" class=\"data row0 col0\" >camry</td>\n",
       "      <td id=\"T_7b2e4_row0_col1\" class=\"data row0 col1\" >₹ 23.73 L</td>\n",
       "      <td id=\"T_7b2e4_row0_col2\" class=\"data row0 col2\" >₹ 2.50 L</td>\n",
       "      <td id=\"T_7b2e4_row0_col3\" class=\"data row0 col3\" >21.230000</td>\n",
       "      <td id=\"T_7b2e4_row0_col4\" class=\"data row0 col4\" >89.5%</td>\n",
       "    </tr>\n",
       "    <tr>\n",
       "      <th id=\"T_7b2e4_level0_row1\" class=\"row_heading level0 row1\" >77</th>\n",
       "      <td id=\"T_7b2e4_row1_col0\" class=\"data row1 col0\" >corolla</td>\n",
       "      <td id=\"T_7b2e4_row1_col1\" class=\"data row1 col1\" >₹ 12.35 L</td>\n",
       "      <td id=\"T_7b2e4_row1_col2\" class=\"data row1 col2\" >₹ 1.50 L</td>\n",
       "      <td id=\"T_7b2e4_row1_col3\" class=\"data row1 col3\" >10.850000</td>\n",
       "      <td id=\"T_7b2e4_row1_col4\" class=\"data row1 col4\" >87.9%</td>\n",
       "    </tr>\n",
       "    <tr>\n",
       "      <th id=\"T_7b2e4_level0_row2\" class=\"row_heading level0 row2\" >200</th>\n",
       "      <td id=\"T_7b2e4_row2_col0\" class=\"data row2 col0\" >Bajaj Pulsar 150</td>\n",
       "      <td id=\"T_7b2e4_row2_col1\" class=\"data row2 col1\" >₹ 0.75 L</td>\n",
       "      <td id=\"T_7b2e4_row2_col2\" class=\"data row2 col2\" >₹ 0.10 L</td>\n",
       "      <td id=\"T_7b2e4_row2_col3\" class=\"data row2 col3\" >0.650000</td>\n",
       "      <td id=\"T_7b2e4_row2_col4\" class=\"data row2 col4\" >86.7%</td>\n",
       "    </tr>\n",
       "    <tr>\n",
       "      <th id=\"T_7b2e4_level0_row3\" class=\"row_heading level0 row3\" >37</th>\n",
       "      <td id=\"T_7b2e4_row3_col0\" class=\"data row3 col0\" >800</td>\n",
       "      <td id=\"T_7b2e4_row3_col1\" class=\"data row3 col1\" >₹ 2.28 L</td>\n",
       "      <td id=\"T_7b2e4_row3_col2\" class=\"data row3 col2\" >₹ 0.35 L</td>\n",
       "      <td id=\"T_7b2e4_row3_col3\" class=\"data row3 col3\" >1.930000</td>\n",
       "      <td id=\"T_7b2e4_row3_col4\" class=\"data row3 col4\" >84.6%</td>\n",
       "    </tr>\n",
       "    <tr>\n",
       "      <th id=\"T_7b2e4_level0_row4\" class=\"row_heading level0 row4\" >94</th>\n",
       "      <td id=\"T_7b2e4_row4_col0\" class=\"data row4 col0\" >corolla altis</td>\n",
       "      <td id=\"T_7b2e4_row4_col1\" class=\"data row4 col1\" >₹ 22.78 L</td>\n",
       "      <td id=\"T_7b2e4_row4_col2\" class=\"data row4 col2\" >₹ 4.00 L</td>\n",
       "      <td id=\"T_7b2e4_row4_col3\" class=\"data row4 col3\" >18.780000</td>\n",
       "      <td id=\"T_7b2e4_row4_col4\" class=\"data row4 col4\" >82.4%</td>\n",
       "    </tr>\n",
       "    <tr>\n",
       "      <th id=\"T_7b2e4_level0_row5\" class=\"row_heading level0 row5\" >90</th>\n",
       "      <td id=\"T_7b2e4_row5_col0\" class=\"data row5 col0\" >corolla altis</td>\n",
       "      <td id=\"T_7b2e4_row5_col1\" class=\"data row5 col1\" >₹ 18.61 L</td>\n",
       "      <td id=\"T_7b2e4_row5_col2\" class=\"data row5 col2\" >₹ 3.80 L</td>\n",
       "      <td id=\"T_7b2e4_row5_col3\" class=\"data row5 col3\" >14.810000</td>\n",
       "      <td id=\"T_7b2e4_row5_col4\" class=\"data row5 col4\" >79.6%</td>\n",
       "    </tr>\n",
       "    <tr>\n",
       "      <th id=\"T_7b2e4_level0_row6\" class=\"row_heading level0 row6\" >199</th>\n",
       "      <td id=\"T_7b2e4_row6_col0\" class=\"data row6 col0\" >Honda CB Shine</td>\n",
       "      <td id=\"T_7b2e4_row6_col1\" class=\"data row6 col1\" >₹ 0.58 L</td>\n",
       "      <td id=\"T_7b2e4_row6_col2\" class=\"data row6 col2\" >₹ 0.12 L</td>\n",
       "      <td id=\"T_7b2e4_row6_col3\" class=\"data row6 col3\" >0.460000</td>\n",
       "      <td id=\"T_7b2e4_row6_col4\" class=\"data row6 col4\" >79.3%</td>\n",
       "    </tr>\n",
       "    <tr>\n",
       "      <th id=\"T_7b2e4_level0_row7\" class=\"row_heading level0 row7\" >78</th>\n",
       "      <td id=\"T_7b2e4_row7_col0\" class=\"data row7 col0\" >corolla altis</td>\n",
       "      <td id=\"T_7b2e4_row7_col1\" class=\"data row7 col1\" >₹ 22.83 L</td>\n",
       "      <td id=\"T_7b2e4_row7_col2\" class=\"data row7 col2\" >₹ 5.25 L</td>\n",
       "      <td id=\"T_7b2e4_row7_col3\" class=\"data row7 col3\" >17.580000</td>\n",
       "      <td id=\"T_7b2e4_row7_col4\" class=\"data row7 col4\" >77.0%</td>\n",
       "    </tr>\n",
       "    <tr>\n",
       "      <th id=\"T_7b2e4_level0_row8\" class=\"row_heading level0 row8\" >55</th>\n",
       "      <td id=\"T_7b2e4_row8_col0\" class=\"data row8 col0\" >corolla altis</td>\n",
       "      <td id=\"T_7b2e4_row8_col1\" class=\"data row8 col1\" >₹ 15.04 L</td>\n",
       "      <td id=\"T_7b2e4_row8_col2\" class=\"data row8 col2\" >₹ 3.60 L</td>\n",
       "      <td id=\"T_7b2e4_row8_col3\" class=\"data row8 col3\" >11.440000</td>\n",
       "      <td id=\"T_7b2e4_row8_col4\" class=\"data row8 col4\" >76.1%</td>\n",
       "    </tr>\n",
       "    <tr>\n",
       "      <th id=\"T_7b2e4_level0_row9\" class=\"row_heading level0 row9\" >47</th>\n",
       "      <td id=\"T_7b2e4_row9_col0\" class=\"data row9 col0\" >wagon r</td>\n",
       "      <td id=\"T_7b2e4_row9_col1\" class=\"data row9 col1\" >₹ 4.15 L</td>\n",
       "      <td id=\"T_7b2e4_row9_col2\" class=\"data row9 col2\" >₹ 1.05 L</td>\n",
       "      <td id=\"T_7b2e4_row9_col3\" class=\"data row9 col3\" >3.100000</td>\n",
       "      <td id=\"T_7b2e4_row9_col4\" class=\"data row9 col4\" >74.7%</td>\n",
       "    </tr>\n",
       "  </tbody>\n",
       "</table>\n"
      ],
      "text/plain": [
       "<pandas.io.formats.style.Styler at 0x7d6552848550>"
      ]
     },
     "execution_count": 19,
     "metadata": {},
     "output_type": "execute_result"
    }
   ],
   "source": [
    "df['Depreciation'] = df['Present_Price'] - df['Selling_Price']\n",
    "df['Depreciation_%'] = (df['Depreciation'] / df['Present_Price']) * 100\n",
    "\n",
    "compare_df = df[['Car_Name', 'Present_Price', 'Selling_Price', 'Depreciation', 'Depreciation_%']]\n",
    "compare_df = compare_df.sort_values(by='Depreciation_%', ascending=False).head(10)\n",
    "compare_df.style.set_caption(\"Top 10 Cars with Highest Depreciation\") \\\n",
    "         .bar(subset='Depreciation_%', color='#ffa07a') \\\n",
    "         .format({'Present_Price': '₹ {:.2f} L', 'Selling_Price': '₹ {:.2f} L', 'Depreciation_%': '{:.1f}%'})"
   ]
  },
  {
   "cell_type": "code",
   "execution_count": 20,
   "id": "aa5cd26b",
   "metadata": {
    "execution": {
     "iopub.execute_input": "2025-06-26T13:40:38.408279Z",
     "iopub.status.busy": "2025-06-26T13:40:38.407943Z",
     "iopub.status.idle": "2025-06-26T13:40:38.419465Z",
     "shell.execute_reply": "2025-06-26T13:40:38.418506Z"
    },
    "papermill": {
     "duration": 0.022323,
     "end_time": "2025-06-26T13:40:38.421112",
     "exception": false,
     "start_time": "2025-06-26T13:40:38.398789",
     "status": "completed"
    },
    "tags": []
   },
   "outputs": [
    {
     "data": {
      "text/html": [
       "<style type=\"text/css\">\n",
       "</style>\n",
       "<table id=\"T_7ac89\">\n",
       "  <caption>Market Summary ?</caption>\n",
       "  <thead>\n",
       "    <tr>\n",
       "      <th class=\"blank level0\" >&nbsp;</th>\n",
       "      <th id=\"T_7ac89_level0_col0\" class=\"col_heading level0 col0\" >Value</th>\n",
       "    </tr>\n",
       "  </thead>\n",
       "  <tbody>\n",
       "    <tr>\n",
       "      <th id=\"T_7ac89_level0_row0\" class=\"row_heading level0 row0\" >Total Cars</th>\n",
       "      <td id=\"T_7ac89_row0_col0\" class=\"data row0 col0\" >301</td>\n",
       "    </tr>\n",
       "    <tr>\n",
       "      <th id=\"T_7ac89_level0_row1\" class=\"row_heading level0 row1\" >Avg Present Price</th>\n",
       "      <td id=\"T_7ac89_row1_col0\" class=\"data row1 col0\" >7.628472</td>\n",
       "    </tr>\n",
       "    <tr>\n",
       "      <th id=\"T_7ac89_level0_row2\" class=\"row_heading level0 row2\" >Avg Selling Price</th>\n",
       "      <td id=\"T_7ac89_row2_col0\" class=\"data row2 col0\" >4.661296</td>\n",
       "    </tr>\n",
       "    <tr>\n",
       "      <th id=\"T_7ac89_level0_row3\" class=\"row_heading level0 row3\" >Avg Car Age</th>\n",
       "      <td id=\"T_7ac89_row3_col0\" class=\"data row3 col0\" >11.372093</td>\n",
       "    </tr>\n",
       "    <tr>\n",
       "      <th id=\"T_7ac89_level0_row4\" class=\"row_heading level0 row4\" >Fuel Type Counts</th>\n",
       "      <td id=\"T_7ac89_row4_col0\" class=\"data row4 col0\" >{'Petrol': 239, 'Diesel': 60, 'CNG': 2}</td>\n",
       "    </tr>\n",
       "  </tbody>\n",
       "</table>\n"
      ],
      "text/plain": [
       "<pandas.io.formats.style.Styler at 0x7d652e0d3f10>"
      ]
     },
     "execution_count": 20,
     "metadata": {},
     "output_type": "execute_result"
    }
   ],
   "source": [
    "df['Car_Age'] = 2025 - df['Year']\n",
    "summary = {\n",
    "    'Total Cars': len(df),\n",
    "    'Avg Present Price': df['Present_Price'].mean(),\n",
    "    'Avg Selling Price': df['Selling_Price'].mean(),\n",
    "    'Avg Car Age': df['Car_Age'].mean(),\n",
    "    'Fuel Type Counts': df['Fuel_Type'].value_counts().to_dict()\n",
    "}\n",
    "pd.DataFrame.from_dict(summary, orient='index', columns=['Value']).style.set_caption(\"Market Summary ?\")"
   ]
  },
  {
   "cell_type": "code",
   "execution_count": 21,
   "id": "833e6c8e",
   "metadata": {
    "execution": {
     "iopub.execute_input": "2025-06-26T13:40:38.440349Z",
     "iopub.status.busy": "2025-06-26T13:40:38.440021Z",
     "iopub.status.idle": "2025-06-26T13:40:38.508373Z",
     "shell.execute_reply": "2025-06-26T13:40:38.507261Z"
    },
    "papermill": {
     "duration": 0.0801,
     "end_time": "2025-06-26T13:40:38.510189",
     "exception": false,
     "start_time": "2025-06-26T13:40:38.430089",
     "status": "completed"
    },
    "tags": []
   },
   "outputs": [
    {
     "data": {
      "text/html": [
       "<html>\n",
       "<head><meta charset=\"utf-8\" /></head>\n",
       "<body>\n",
       "    <div>            <script src=\"https://cdnjs.cloudflare.com/ajax/libs/mathjax/2.7.5/MathJax.js?config=TeX-AMS-MML_SVG\"></script><script type=\"text/javascript\">if (window.MathJax && window.MathJax.Hub && window.MathJax.Hub.Config) {window.MathJax.Hub.Config({SVG: {font: \"STIX-Web\"}});}</script>                <script type=\"text/javascript\">window.PlotlyConfig = {MathJaxConfig: 'local'};</script>\n",
       "        <script charset=\"utf-8\" src=\"https://cdn.plot.ly/plotly-2.35.2.min.js\"></script>                <div id=\"e1ba0dd5-1aa2-4285-87f2-db3b630788e9\" class=\"plotly-graph-div\" style=\"height:525px; width:100%;\"></div>            <script type=\"text/javascript\">                                    window.PLOTLYENV=window.PLOTLYENV || {};                                    if (document.getElementById(\"e1ba0dd5-1aa2-4285-87f2-db3b630788e9\")) {                    Plotly.newPlot(                        \"e1ba0dd5-1aa2-4285-87f2-db3b630788e9\",                        [{\"domain\":{\"x\":[0.0,1.0],\"y\":[0.0,1.0]},\"hole\":0.4,\"hovertemplate\":\"Fuel_Type=%{label}\\u003cextra\\u003e\\u003c\\u002fextra\\u003e\",\"labels\":[\"Petrol\",\"Diesel\",\"Petrol\",\"Petrol\",\"Diesel\",\"Diesel\",\"Petrol\",\"Diesel\",\"Diesel\",\"Diesel\",\"Petrol\",\"Diesel\",\"Petrol\",\"Petrol\",\"Petrol\",\"Diesel\",\"Diesel\",\"Diesel\",\"CNG\",\"Petrol\",\"Petrol\",\"Petrol\",\"Petrol\",\"Petrol\",\"Petrol\",\"Petrol\",\"Petrol\",\"Petrol\",\"Petrol\",\"Diesel\",\"Diesel\",\"Petrol\",\"Diesel\",\"Diesel\",\"Diesel\",\"CNG\",\"Petrol\",\"Petrol\",\"Petrol\",\"Petrol\",\"Petrol\",\"Petrol\",\"Petrol\",\"Diesel\",\"Petrol\",\"Petrol\",\"Petrol\",\"Petrol\",\"Petrol\",\"Petrol\",\"Diesel\",\"Diesel\",\"Diesel\",\"Diesel\",\"Petrol\",\"Petrol\",\"Petrol\",\"Petrol\",\"Petrol\",\"Diesel\",\"Petrol\",\"Petrol\",\"Diesel\",\"Diesel\",\"Diesel\",\"Diesel\",\"Petrol\",\"Diesel\",\"Petrol\",\"Petrol\",\"Diesel\",\"Diesel\",\"Petrol\",\"Petrol\",\"Diesel\",\"Petrol\",\"Petrol\",\"Petrol\",\"Petrol\",\"Diesel\",\"Diesel\",\"Diesel\",\"Diesel\",\"Diesel\",\"Diesel\",\"Petrol\",\"Diesel\",\"Petrol\",\"Petrol\",\"Petrol\",\"Petrol\",\"Diesel\",\"Petrol\",\"Diesel\",\"Petrol\",\"Petrol\",\"Diesel\",\"Petrol\",\"Petrol\",\"Diesel\",\"Petrol\",\"Petrol\",\"Petrol\",\"Petrol\",\"Petrol\",\"Petrol\",\"Petrol\",\"Petrol\",\"Petrol\",\"Petrol\",\"Petrol\",\"Petrol\",\"Petrol\",\"Petrol\",\"Petrol\",\"Petrol\",\"Petrol\",\"Petrol\",\"Petrol\",\"Petrol\",\"Petrol\",\"Petrol\",\"Petrol\",\"Petrol\",\"Petrol\",\"Petrol\",\"Petrol\",\"Petrol\",\"Petrol\",\"Petrol\",\"Petrol\",\"Petrol\",\"Petrol\",\"Petrol\",\"Petrol\",\"Petrol\",\"Petrol\",\"Petrol\",\"Petrol\",\"Petrol\",\"Petrol\",\"Petrol\",\"Petrol\",\"Petrol\",\"Petrol\",\"Petrol\",\"Petrol\",\"Petrol\",\"Petrol\",\"Petrol\",\"Petrol\",\"Petrol\",\"Petrol\",\"Petrol\",\"Petrol\",\"Petrol\",\"Petrol\",\"Petrol\",\"Petrol\",\"Petrol\",\"Petrol\",\"Petrol\",\"Petrol\",\"Petrol\",\"Petrol\",\"Petrol\",\"Petrol\",\"Petrol\",\"Petrol\",\"Petrol\",\"Petrol\",\"Petrol\",\"Petrol\",\"Petrol\",\"Petrol\",\"Petrol\",\"Petrol\",\"Petrol\",\"Petrol\",\"Petrol\",\"Petrol\",\"Petrol\",\"Petrol\",\"Petrol\",\"Petrol\",\"Petrol\",\"Petrol\",\"Petrol\",\"Petrol\",\"Petrol\",\"Petrol\",\"Petrol\",\"Petrol\",\"Petrol\",\"Petrol\",\"Petrol\",\"Petrol\",\"Petrol\",\"Petrol\",\"Petrol\",\"Petrol\",\"Diesel\",\"Petrol\",\"Petrol\",\"Petrol\",\"Petrol\",\"Petrol\",\"Petrol\",\"Petrol\",\"Diesel\",\"Petrol\",\"Diesel\",\"Petrol\",\"Petrol\",\"Petrol\",\"Petrol\",\"Petrol\",\"Petrol\",\"Petrol\",\"Petrol\",\"Petrol\",\"Petrol\",\"Diesel\",\"Diesel\",\"Petrol\",\"Petrol\",\"Petrol\",\"Petrol\",\"Diesel\",\"Diesel\",\"Diesel\",\"Petrol\",\"Petrol\",\"Diesel\",\"Petrol\",\"Petrol\",\"Petrol\",\"Diesel\",\"Petrol\",\"Petrol\",\"Diesel\",\"Petrol\",\"Petrol\",\"Petrol\",\"Diesel\",\"Diesel\",\"Petrol\",\"Petrol\",\"Petrol\",\"Petrol\",\"Diesel\",\"Petrol\",\"Petrol\",\"Diesel\",\"Petrol\",\"Petrol\",\"Petrol\",\"Petrol\",\"Petrol\",\"Petrol\",\"Petrol\",\"Petrol\",\"Petrol\",\"Petrol\",\"Petrol\",\"Petrol\",\"Petrol\",\"Diesel\",\"Petrol\",\"Petrol\",\"Petrol\",\"Petrol\",\"Petrol\",\"Petrol\",\"Petrol\",\"Petrol\",\"Petrol\",\"Petrol\",\"Petrol\",\"Petrol\",\"Petrol\",\"Petrol\",\"Diesel\",\"Petrol\",\"Petrol\",\"Petrol\",\"Petrol\",\"Petrol\",\"Petrol\",\"Petrol\",\"Petrol\",\"Petrol\",\"Petrol\",\"Petrol\",\"Petrol\",\"Diesel\",\"Diesel\",\"Petrol\",\"Petrol\",\"Diesel\",\"Petrol\"],\"legendgroup\":\"\",\"name\":\"\",\"showlegend\":true,\"type\":\"pie\"}],                        {\"template\":{\"data\":{\"histogram2dcontour\":[{\"type\":\"histogram2dcontour\",\"colorbar\":{\"outlinewidth\":0,\"ticks\":\"\"},\"colorscale\":[[0.0,\"#0d0887\"],[0.1111111111111111,\"#46039f\"],[0.2222222222222222,\"#7201a8\"],[0.3333333333333333,\"#9c179e\"],[0.4444444444444444,\"#bd3786\"],[0.5555555555555556,\"#d8576b\"],[0.6666666666666666,\"#ed7953\"],[0.7777777777777778,\"#fb9f3a\"],[0.8888888888888888,\"#fdca26\"],[1.0,\"#f0f921\"]]}],\"choropleth\":[{\"type\":\"choropleth\",\"colorbar\":{\"outlinewidth\":0,\"ticks\":\"\"}}],\"histogram2d\":[{\"type\":\"histogram2d\",\"colorbar\":{\"outlinewidth\":0,\"ticks\":\"\"},\"colorscale\":[[0.0,\"#0d0887\"],[0.1111111111111111,\"#46039f\"],[0.2222222222222222,\"#7201a8\"],[0.3333333333333333,\"#9c179e\"],[0.4444444444444444,\"#bd3786\"],[0.5555555555555556,\"#d8576b\"],[0.6666666666666666,\"#ed7953\"],[0.7777777777777778,\"#fb9f3a\"],[0.8888888888888888,\"#fdca26\"],[1.0,\"#f0f921\"]]}],\"heatmap\":[{\"type\":\"heatmap\",\"colorbar\":{\"outlinewidth\":0,\"ticks\":\"\"},\"colorscale\":[[0.0,\"#0d0887\"],[0.1111111111111111,\"#46039f\"],[0.2222222222222222,\"#7201a8\"],[0.3333333333333333,\"#9c179e\"],[0.4444444444444444,\"#bd3786\"],[0.5555555555555556,\"#d8576b\"],[0.6666666666666666,\"#ed7953\"],[0.7777777777777778,\"#fb9f3a\"],[0.8888888888888888,\"#fdca26\"],[1.0,\"#f0f921\"]]}],\"heatmapgl\":[{\"type\":\"heatmapgl\",\"colorbar\":{\"outlinewidth\":0,\"ticks\":\"\"},\"colorscale\":[[0.0,\"#0d0887\"],[0.1111111111111111,\"#46039f\"],[0.2222222222222222,\"#7201a8\"],[0.3333333333333333,\"#9c179e\"],[0.4444444444444444,\"#bd3786\"],[0.5555555555555556,\"#d8576b\"],[0.6666666666666666,\"#ed7953\"],[0.7777777777777778,\"#fb9f3a\"],[0.8888888888888888,\"#fdca26\"],[1.0,\"#f0f921\"]]}],\"contourcarpet\":[{\"type\":\"contourcarpet\",\"colorbar\":{\"outlinewidth\":0,\"ticks\":\"\"}}],\"contour\":[{\"type\":\"contour\",\"colorbar\":{\"outlinewidth\":0,\"ticks\":\"\"},\"colorscale\":[[0.0,\"#0d0887\"],[0.1111111111111111,\"#46039f\"],[0.2222222222222222,\"#7201a8\"],[0.3333333333333333,\"#9c179e\"],[0.4444444444444444,\"#bd3786\"],[0.5555555555555556,\"#d8576b\"],[0.6666666666666666,\"#ed7953\"],[0.7777777777777778,\"#fb9f3a\"],[0.8888888888888888,\"#fdca26\"],[1.0,\"#f0f921\"]]}],\"surface\":[{\"type\":\"surface\",\"colorbar\":{\"outlinewidth\":0,\"ticks\":\"\"},\"colorscale\":[[0.0,\"#0d0887\"],[0.1111111111111111,\"#46039f\"],[0.2222222222222222,\"#7201a8\"],[0.3333333333333333,\"#9c179e\"],[0.4444444444444444,\"#bd3786\"],[0.5555555555555556,\"#d8576b\"],[0.6666666666666666,\"#ed7953\"],[0.7777777777777778,\"#fb9f3a\"],[0.8888888888888888,\"#fdca26\"],[1.0,\"#f0f921\"]]}],\"mesh3d\":[{\"type\":\"mesh3d\",\"colorbar\":{\"outlinewidth\":0,\"ticks\":\"\"}}],\"scatter\":[{\"fillpattern\":{\"fillmode\":\"overlay\",\"size\":10,\"solidity\":0.2},\"type\":\"scatter\"}],\"parcoords\":[{\"type\":\"parcoords\",\"line\":{\"colorbar\":{\"outlinewidth\":0,\"ticks\":\"\"}}}],\"scatterpolargl\":[{\"type\":\"scatterpolargl\",\"marker\":{\"colorbar\":{\"outlinewidth\":0,\"ticks\":\"\"}}}],\"bar\":[{\"error_x\":{\"color\":\"#2a3f5f\"},\"error_y\":{\"color\":\"#2a3f5f\"},\"marker\":{\"line\":{\"color\":\"#E5ECF6\",\"width\":0.5},\"pattern\":{\"fillmode\":\"overlay\",\"size\":10,\"solidity\":0.2}},\"type\":\"bar\"}],\"scattergeo\":[{\"type\":\"scattergeo\",\"marker\":{\"colorbar\":{\"outlinewidth\":0,\"ticks\":\"\"}}}],\"scatterpolar\":[{\"type\":\"scatterpolar\",\"marker\":{\"colorbar\":{\"outlinewidth\":0,\"ticks\":\"\"}}}],\"histogram\":[{\"marker\":{\"pattern\":{\"fillmode\":\"overlay\",\"size\":10,\"solidity\":0.2}},\"type\":\"histogram\"}],\"scattergl\":[{\"type\":\"scattergl\",\"marker\":{\"colorbar\":{\"outlinewidth\":0,\"ticks\":\"\"}}}],\"scatter3d\":[{\"type\":\"scatter3d\",\"line\":{\"colorbar\":{\"outlinewidth\":0,\"ticks\":\"\"}},\"marker\":{\"colorbar\":{\"outlinewidth\":0,\"ticks\":\"\"}}}],\"scattermapbox\":[{\"type\":\"scattermapbox\",\"marker\":{\"colorbar\":{\"outlinewidth\":0,\"ticks\":\"\"}}}],\"scatterternary\":[{\"type\":\"scatterternary\",\"marker\":{\"colorbar\":{\"outlinewidth\":0,\"ticks\":\"\"}}}],\"scattercarpet\":[{\"type\":\"scattercarpet\",\"marker\":{\"colorbar\":{\"outlinewidth\":0,\"ticks\":\"\"}}}],\"carpet\":[{\"aaxis\":{\"endlinecolor\":\"#2a3f5f\",\"gridcolor\":\"white\",\"linecolor\":\"white\",\"minorgridcolor\":\"white\",\"startlinecolor\":\"#2a3f5f\"},\"baxis\":{\"endlinecolor\":\"#2a3f5f\",\"gridcolor\":\"white\",\"linecolor\":\"white\",\"minorgridcolor\":\"white\",\"startlinecolor\":\"#2a3f5f\"},\"type\":\"carpet\"}],\"table\":[{\"cells\":{\"fill\":{\"color\":\"#EBF0F8\"},\"line\":{\"color\":\"white\"}},\"header\":{\"fill\":{\"color\":\"#C8D4E3\"},\"line\":{\"color\":\"white\"}},\"type\":\"table\"}],\"barpolar\":[{\"marker\":{\"line\":{\"color\":\"#E5ECF6\",\"width\":0.5},\"pattern\":{\"fillmode\":\"overlay\",\"size\":10,\"solidity\":0.2}},\"type\":\"barpolar\"}],\"pie\":[{\"automargin\":true,\"type\":\"pie\"}]},\"layout\":{\"autotypenumbers\":\"strict\",\"colorway\":[\"#636efa\",\"#EF553B\",\"#00cc96\",\"#ab63fa\",\"#FFA15A\",\"#19d3f3\",\"#FF6692\",\"#B6E880\",\"#FF97FF\",\"#FECB52\"],\"font\":{\"color\":\"#2a3f5f\"},\"hovermode\":\"closest\",\"hoverlabel\":{\"align\":\"left\"},\"paper_bgcolor\":\"white\",\"plot_bgcolor\":\"#E5ECF6\",\"polar\":{\"bgcolor\":\"#E5ECF6\",\"angularaxis\":{\"gridcolor\":\"white\",\"linecolor\":\"white\",\"ticks\":\"\"},\"radialaxis\":{\"gridcolor\":\"white\",\"linecolor\":\"white\",\"ticks\":\"\"}},\"ternary\":{\"bgcolor\":\"#E5ECF6\",\"aaxis\":{\"gridcolor\":\"white\",\"linecolor\":\"white\",\"ticks\":\"\"},\"baxis\":{\"gridcolor\":\"white\",\"linecolor\":\"white\",\"ticks\":\"\"},\"caxis\":{\"gridcolor\":\"white\",\"linecolor\":\"white\",\"ticks\":\"\"}},\"coloraxis\":{\"colorbar\":{\"outlinewidth\":0,\"ticks\":\"\"}},\"colorscale\":{\"sequential\":[[0.0,\"#0d0887\"],[0.1111111111111111,\"#46039f\"],[0.2222222222222222,\"#7201a8\"],[0.3333333333333333,\"#9c179e\"],[0.4444444444444444,\"#bd3786\"],[0.5555555555555556,\"#d8576b\"],[0.6666666666666666,\"#ed7953\"],[0.7777777777777778,\"#fb9f3a\"],[0.8888888888888888,\"#fdca26\"],[1.0,\"#f0f921\"]],\"sequentialminus\":[[0.0,\"#0d0887\"],[0.1111111111111111,\"#46039f\"],[0.2222222222222222,\"#7201a8\"],[0.3333333333333333,\"#9c179e\"],[0.4444444444444444,\"#bd3786\"],[0.5555555555555556,\"#d8576b\"],[0.6666666666666666,\"#ed7953\"],[0.7777777777777778,\"#fb9f3a\"],[0.8888888888888888,\"#fdca26\"],[1.0,\"#f0f921\"]],\"diverging\":[[0,\"#8e0152\"],[0.1,\"#c51b7d\"],[0.2,\"#de77ae\"],[0.3,\"#f1b6da\"],[0.4,\"#fde0ef\"],[0.5,\"#f7f7f7\"],[0.6,\"#e6f5d0\"],[0.7,\"#b8e186\"],[0.8,\"#7fbc41\"],[0.9,\"#4d9221\"],[1,\"#276419\"]]},\"xaxis\":{\"gridcolor\":\"white\",\"linecolor\":\"white\",\"ticks\":\"\",\"title\":{\"standoff\":15},\"zerolinecolor\":\"white\",\"automargin\":true,\"zerolinewidth\":2},\"yaxis\":{\"gridcolor\":\"white\",\"linecolor\":\"white\",\"ticks\":\"\",\"title\":{\"standoff\":15},\"zerolinecolor\":\"white\",\"automargin\":true,\"zerolinewidth\":2},\"scene\":{\"xaxis\":{\"backgroundcolor\":\"#E5ECF6\",\"gridcolor\":\"white\",\"linecolor\":\"white\",\"showbackground\":true,\"ticks\":\"\",\"zerolinecolor\":\"white\",\"gridwidth\":2},\"yaxis\":{\"backgroundcolor\":\"#E5ECF6\",\"gridcolor\":\"white\",\"linecolor\":\"white\",\"showbackground\":true,\"ticks\":\"\",\"zerolinecolor\":\"white\",\"gridwidth\":2},\"zaxis\":{\"backgroundcolor\":\"#E5ECF6\",\"gridcolor\":\"white\",\"linecolor\":\"white\",\"showbackground\":true,\"ticks\":\"\",\"zerolinecolor\":\"white\",\"gridwidth\":2}},\"shapedefaults\":{\"line\":{\"color\":\"#2a3f5f\"}},\"annotationdefaults\":{\"arrowcolor\":\"#2a3f5f\",\"arrowhead\":0,\"arrowwidth\":1},\"geo\":{\"bgcolor\":\"white\",\"landcolor\":\"#E5ECF6\",\"subunitcolor\":\"white\",\"showland\":true,\"showlakes\":true,\"lakecolor\":\"white\"},\"title\":{\"x\":0.05},\"mapbox\":{\"style\":\"light\"}}},\"legend\":{\"tracegroupgap\":0},\"title\":{\"text\":\" Fuel Type Distribution in Market\"},\"piecolorway\":[\"rgb(103,0,31)\",\"rgb(178,24,43)\",\"rgb(214,96,77)\",\"rgb(244,165,130)\",\"rgb(253,219,199)\",\"rgb(247,247,247)\",\"rgb(209,229,240)\",\"rgb(146,197,222)\",\"rgb(67,147,195)\",\"rgb(33,102,172)\",\"rgb(5,48,97)\"]},                        {\"responsive\": true}                    ).then(function(){\n",
       "                            \n",
       "var gd = document.getElementById('e1ba0dd5-1aa2-4285-87f2-db3b630788e9');\n",
       "var x = new MutationObserver(function (mutations, observer) {{\n",
       "        var display = window.getComputedStyle(gd).display;\n",
       "        if (!display || display === 'none') {{\n",
       "            console.log([gd, 'removed!']);\n",
       "            Plotly.purge(gd);\n",
       "            observer.disconnect();\n",
       "        }}\n",
       "}});\n",
       "\n",
       "// Listen for the removal of the full notebook cells\n",
       "var notebookContainer = gd.closest('#notebook-container');\n",
       "if (notebookContainer) {{\n",
       "    x.observe(notebookContainer, {childList: true});\n",
       "}}\n",
       "\n",
       "// Listen for the clearing of the current output cell\n",
       "var outputEl = gd.closest('.output');\n",
       "if (outputEl) {{\n",
       "    x.observe(outputEl, {childList: true});\n",
       "}}\n",
       "\n",
       "                        })                };                            </script>        </div>\n",
       "</body>\n",
       "</html>"
      ]
     },
     "metadata": {},
     "output_type": "display_data"
    }
   ],
   "source": [
    "fig2 = px.pie(df, \n",
    "              names='Fuel_Type', \n",
    "              title=\" Fuel Type Distribution in Market\",\n",
    "              hole=0.4,\n",
    "              color_discrete_sequence=px.colors.sequential.RdBu)\n",
    "\n",
    "fig2.show()"
   ]
  },
  {
   "cell_type": "code",
   "execution_count": 22,
   "id": "2ad5c1b5",
   "metadata": {
    "execution": {
     "iopub.execute_input": "2025-06-26T13:40:38.530920Z",
     "iopub.status.busy": "2025-06-26T13:40:38.529731Z",
     "iopub.status.idle": "2025-06-26T13:40:38.613433Z",
     "shell.execute_reply": "2025-06-26T13:40:38.612326Z"
    },
    "papermill": {
     "duration": 0.095367,
     "end_time": "2025-06-26T13:40:38.615064",
     "exception": false,
     "start_time": "2025-06-26T13:40:38.519697",
     "status": "completed"
    },
    "tags": []
   },
   "outputs": [
    {
     "data": {
      "text/html": [
       "<html>\n",
       "<head><meta charset=\"utf-8\" /></head>\n",
       "<body>\n",
       "    <div>            <script src=\"https://cdnjs.cloudflare.com/ajax/libs/mathjax/2.7.5/MathJax.js?config=TeX-AMS-MML_SVG\"></script><script type=\"text/javascript\">if (window.MathJax && window.MathJax.Hub && window.MathJax.Hub.Config) {window.MathJax.Hub.Config({SVG: {font: \"STIX-Web\"}});}</script>                <script type=\"text/javascript\">window.PlotlyConfig = {MathJaxConfig: 'local'};</script>\n",
       "        <script charset=\"utf-8\" src=\"https://cdn.plot.ly/plotly-2.35.2.min.js\"></script>                <div id=\"7d73169d-4b62-407e-b24e-5cabd6e29fc6\" class=\"plotly-graph-div\" style=\"height:525px; width:100%;\"></div>            <script type=\"text/javascript\">                                    window.PLOTLYENV=window.PLOTLYENV || {};                                    if (document.getElementById(\"7d73169d-4b62-407e-b24e-5cabd6e29fc6\")) {                    Plotly.newPlot(                        \"7d73169d-4b62-407e-b24e-5cabd6e29fc6\",                        [{\"alignmentgroup\":\"True\",\"hovertemplate\":\"Transmission=%{x}\\u003cbr\\u003eSelling_Price=%{y}\\u003cextra\\u003e\\u003c\\u002fextra\\u003e\",\"legendgroup\":\"Manual\",\"marker\":{\"color\":\"#636efa\"},\"name\":\"Manual\",\"notched\":false,\"offsetgroup\":\"Manual\",\"orientation\":\"v\",\"showlegend\":true,\"x\":[\"Manual\",\"Manual\",\"Manual\",\"Manual\",\"Manual\",\"Manual\",\"Manual\",\"Manual\",\"Manual\",\"Manual\",\"Manual\",\"Manual\",\"Manual\",\"Manual\",\"Manual\",\"Manual\",\"Manual\",\"Manual\",\"Manual\",\"Manual\",\"Manual\",\"Manual\",\"Manual\",\"Manual\",\"Manual\",\"Manual\",\"Manual\",\"Manual\",\"Manual\",\"Manual\",\"Manual\",\"Manual\",\"Manual\",\"Manual\",\"Manual\",\"Manual\",\"Manual\",\"Manual\",\"Manual\",\"Manual\",\"Manual\",\"Manual\",\"Manual\",\"Manual\",\"Manual\",\"Manual\",\"Manual\",\"Manual\",\"Manual\",\"Manual\",\"Manual\",\"Manual\",\"Manual\",\"Manual\",\"Manual\",\"Manual\",\"Manual\",\"Manual\",\"Manual\",\"Manual\",\"Manual\",\"Manual\",\"Manual\",\"Manual\",\"Manual\",\"Manual\",\"Manual\",\"Manual\",\"Manual\",\"Manual\",\"Manual\",\"Manual\",\"Manual\",\"Manual\",\"Manual\",\"Manual\",\"Manual\",\"Manual\",\"Manual\",\"Manual\",\"Manual\",\"Manual\",\"Manual\",\"Manual\",\"Manual\",\"Manual\",\"Manual\",\"Manual\",\"Manual\",\"Manual\",\"Manual\",\"Manual\",\"Manual\",\"Manual\",\"Manual\",\"Manual\",\"Manual\",\"Manual\",\"Manual\",\"Manual\",\"Manual\",\"Manual\",\"Manual\",\"Manual\",\"Manual\",\"Manual\",\"Manual\",\"Manual\",\"Manual\",\"Manual\",\"Manual\",\"Manual\",\"Manual\",\"Manual\",\"Manual\",\"Manual\",\"Manual\",\"Manual\",\"Manual\",\"Manual\",\"Manual\",\"Manual\",\"Manual\",\"Manual\",\"Manual\",\"Manual\",\"Manual\",\"Manual\",\"Manual\",\"Manual\",\"Manual\",\"Manual\",\"Manual\",\"Manual\",\"Manual\",\"Manual\",\"Manual\",\"Manual\",\"Manual\",\"Manual\",\"Manual\",\"Manual\",\"Manual\",\"Manual\",\"Manual\",\"Manual\",\"Manual\",\"Manual\",\"Manual\",\"Manual\",\"Manual\",\"Manual\",\"Manual\",\"Manual\",\"Manual\",\"Manual\",\"Manual\",\"Manual\",\"Manual\",\"Manual\",\"Manual\",\"Manual\",\"Manual\",\"Manual\",\"Manual\",\"Manual\",\"Manual\",\"Manual\",\"Manual\",\"Manual\",\"Manual\",\"Manual\",\"Manual\",\"Manual\",\"Manual\",\"Manual\",\"Manual\",\"Manual\",\"Manual\",\"Manual\",\"Manual\",\"Manual\",\"Manual\",\"Manual\",\"Manual\",\"Manual\",\"Manual\",\"Manual\",\"Manual\",\"Manual\",\"Manual\",\"Manual\",\"Manual\",\"Manual\",\"Manual\",\"Manual\",\"Manual\",\"Manual\",\"Manual\",\"Manual\",\"Manual\",\"Manual\",\"Manual\",\"Manual\",\"Manual\",\"Manual\",\"Manual\",\"Manual\",\"Manual\",\"Manual\",\"Manual\",\"Manual\",\"Manual\",\"Manual\",\"Manual\",\"Manual\",\"Manual\",\"Manual\",\"Manual\",\"Manual\",\"Manual\",\"Manual\",\"Manual\",\"Manual\",\"Manual\",\"Manual\",\"Manual\",\"Manual\",\"Manual\",\"Manual\",\"Manual\",\"Manual\",\"Manual\",\"Manual\",\"Manual\",\"Manual\",\"Manual\",\"Manual\",\"Manual\",\"Manual\",\"Manual\",\"Manual\",\"Manual\",\"Manual\",\"Manual\",\"Manual\",\"Manual\",\"Manual\",\"Manual\",\"Manual\",\"Manual\",\"Manual\",\"Manual\",\"Manual\",\"Manual\",\"Manual\",\"Manual\",\"Manual\",\"Manual\",\"Manual\",\"Manual\"],\"x0\":\" \",\"xaxis\":\"x\",\"y\":[3.35,4.75,7.25,2.85,4.6,9.25,6.75,6.5,8.75,7.45,2.85,6.85,6.1,2.25,7.75,7.25,7.75,3.25,2.65,2.85,4.9,2.5,2.9,3.0,4.15,6.0,1.95,7.45,3.1,2.35,4.95,6.0,5.5,2.95,4.65,0.35,3.0,2.25,2.55,1.95,5.5,1.25,2.65,1.05,5.8,2.75,4.5,4.75,4.1,6.95,4.5,4.75,9.25,4.35,14.25,3.95,4.5,7.45,2.65,4.9,3.95,5.5,14.73,4.75,12.5,3.49,35.0,5.9,3.45,4.75,3.8,11.25,3.51,5.85,17.0,7.05,9.65,1.75,1.7,1.65,1.45,1.35,1.35,1.35,1.25,1.2,1.2,1.2,1.15,1.15,1.15,1.15,1.11,1.1,1.1,1.1,1.05,1.05,1.05,1.05,1.0,0.95,0.9,0.9,0.75,0.8,0.78,0.75,0.75,0.75,0.72,0.65,0.65,0.65,0.65,0.6,0.6,0.6,0.6,0.6,0.6,0.6,0.6,0.55,0.55,0.52,0.51,0.5,0.5,0.5,0.5,0.5,0.48,0.48,0.48,0.45,0.45,0.45,0.45,0.45,0.45,0.42,0.42,0.4,0.4,0.4,0.4,0.38,0.38,0.35,0.31,0.3,0.3,0.3,0.27,0.25,0.25,0.25,0.2,0.2,0.2,0.2,0.2,0.2,0.18,0.16,0.15,0.12,0.1,3.25,4.4,2.95,2.75,5.25,5.75,7.9,4.85,3.1,11.75,11.25,2.9,5.25,4.5,2.9,3.15,6.45,4.5,3.5,6.0,8.25,2.7,5.25,2.55,4.95,3.1,6.15,9.25,3.9,5.5,9.1,3.1,11.25,4.8,2.0,5.35,4.75,4.4,6.25,5.95,5.2,3.75,5.95,4.0,5.25,12.9,5.0,7.2,5.25,3.0,10.25,8.5,8.4,3.9,9.15,5.5,4.0,6.6,4.0,6.5,3.65,8.35,4.8,6.7,4.1,3.0,7.5,2.25,5.3,8.65,9.7,6.0,6.25,5.25,2.1,8.25,8.99,3.5,5.65,8.4,10.11,4.5,5.4,6.4,3.25,3.75,8.55,9.5,4.0,3.35,11.5,5.3],\"y0\":\" \",\"yaxis\":\"y\",\"type\":\"box\"},{\"alignmentgroup\":\"True\",\"hovertemplate\":\"Transmission=%{x}\\u003cbr\\u003eSelling_Price=%{y}\\u003cextra\\u003e\\u003c\\u002fextra\\u003e\",\"legendgroup\":\"Automatic\",\"marker\":{\"color\":\"#EF553B\"},\"name\":\"Automatic\",\"notched\":false,\"offsetgroup\":\"Automatic\",\"orientation\":\"v\",\"showlegend\":true,\"x\":[\"Automatic\",\"Automatic\",\"Automatic\",\"Automatic\",\"Automatic\",\"Automatic\",\"Automatic\",\"Automatic\",\"Automatic\",\"Automatic\",\"Automatic\",\"Automatic\",\"Automatic\",\"Automatic\",\"Automatic\",\"Automatic\",\"Automatic\",\"Automatic\",\"Automatic\",\"Automatic\",\"Automatic\",\"Automatic\",\"Automatic\",\"Automatic\",\"Automatic\",\"Automatic\",\"Automatic\",\"Automatic\",\"Automatic\",\"Automatic\",\"Automatic\",\"Automatic\",\"Automatic\",\"Automatic\",\"Automatic\",\"Automatic\",\"Automatic\",\"Automatic\",\"Automatic\",\"Automatic\"],\"x0\":\" \",\"xaxis\":\"x\",\"y\":[7.5,4.4,5.85,7.5,7.75,14.9,23.0,18.0,16.0,3.6,19.99,18.75,23.5,33.0,19.75,1.5,5.25,14.5,23.0,2.5,23.0,4.0,20.75,0.48,0.45,0.45,0.4,0.35,0.35,0.25,0.25,0.17,5.15,4.5,5.11,11.45,5.4,10.9,7.4,5.75],\"y0\":\" \",\"yaxis\":\"y\",\"type\":\"box\"}],                        {\"template\":{\"data\":{\"histogram2dcontour\":[{\"type\":\"histogram2dcontour\",\"colorbar\":{\"outlinewidth\":0,\"ticks\":\"\"},\"colorscale\":[[0.0,\"#0d0887\"],[0.1111111111111111,\"#46039f\"],[0.2222222222222222,\"#7201a8\"],[0.3333333333333333,\"#9c179e\"],[0.4444444444444444,\"#bd3786\"],[0.5555555555555556,\"#d8576b\"],[0.6666666666666666,\"#ed7953\"],[0.7777777777777778,\"#fb9f3a\"],[0.8888888888888888,\"#fdca26\"],[1.0,\"#f0f921\"]]}],\"choropleth\":[{\"type\":\"choropleth\",\"colorbar\":{\"outlinewidth\":0,\"ticks\":\"\"}}],\"histogram2d\":[{\"type\":\"histogram2d\",\"colorbar\":{\"outlinewidth\":0,\"ticks\":\"\"},\"colorscale\":[[0.0,\"#0d0887\"],[0.1111111111111111,\"#46039f\"],[0.2222222222222222,\"#7201a8\"],[0.3333333333333333,\"#9c179e\"],[0.4444444444444444,\"#bd3786\"],[0.5555555555555556,\"#d8576b\"],[0.6666666666666666,\"#ed7953\"],[0.7777777777777778,\"#fb9f3a\"],[0.8888888888888888,\"#fdca26\"],[1.0,\"#f0f921\"]]}],\"heatmap\":[{\"type\":\"heatmap\",\"colorbar\":{\"outlinewidth\":0,\"ticks\":\"\"},\"colorscale\":[[0.0,\"#0d0887\"],[0.1111111111111111,\"#46039f\"],[0.2222222222222222,\"#7201a8\"],[0.3333333333333333,\"#9c179e\"],[0.4444444444444444,\"#bd3786\"],[0.5555555555555556,\"#d8576b\"],[0.6666666666666666,\"#ed7953\"],[0.7777777777777778,\"#fb9f3a\"],[0.8888888888888888,\"#fdca26\"],[1.0,\"#f0f921\"]]}],\"heatmapgl\":[{\"type\":\"heatmapgl\",\"colorbar\":{\"outlinewidth\":0,\"ticks\":\"\"},\"colorscale\":[[0.0,\"#0d0887\"],[0.1111111111111111,\"#46039f\"],[0.2222222222222222,\"#7201a8\"],[0.3333333333333333,\"#9c179e\"],[0.4444444444444444,\"#bd3786\"],[0.5555555555555556,\"#d8576b\"],[0.6666666666666666,\"#ed7953\"],[0.7777777777777778,\"#fb9f3a\"],[0.8888888888888888,\"#fdca26\"],[1.0,\"#f0f921\"]]}],\"contourcarpet\":[{\"type\":\"contourcarpet\",\"colorbar\":{\"outlinewidth\":0,\"ticks\":\"\"}}],\"contour\":[{\"type\":\"contour\",\"colorbar\":{\"outlinewidth\":0,\"ticks\":\"\"},\"colorscale\":[[0.0,\"#0d0887\"],[0.1111111111111111,\"#46039f\"],[0.2222222222222222,\"#7201a8\"],[0.3333333333333333,\"#9c179e\"],[0.4444444444444444,\"#bd3786\"],[0.5555555555555556,\"#d8576b\"],[0.6666666666666666,\"#ed7953\"],[0.7777777777777778,\"#fb9f3a\"],[0.8888888888888888,\"#fdca26\"],[1.0,\"#f0f921\"]]}],\"surface\":[{\"type\":\"surface\",\"colorbar\":{\"outlinewidth\":0,\"ticks\":\"\"},\"colorscale\":[[0.0,\"#0d0887\"],[0.1111111111111111,\"#46039f\"],[0.2222222222222222,\"#7201a8\"],[0.3333333333333333,\"#9c179e\"],[0.4444444444444444,\"#bd3786\"],[0.5555555555555556,\"#d8576b\"],[0.6666666666666666,\"#ed7953\"],[0.7777777777777778,\"#fb9f3a\"],[0.8888888888888888,\"#fdca26\"],[1.0,\"#f0f921\"]]}],\"mesh3d\":[{\"type\":\"mesh3d\",\"colorbar\":{\"outlinewidth\":0,\"ticks\":\"\"}}],\"scatter\":[{\"fillpattern\":{\"fillmode\":\"overlay\",\"size\":10,\"solidity\":0.2},\"type\":\"scatter\"}],\"parcoords\":[{\"type\":\"parcoords\",\"line\":{\"colorbar\":{\"outlinewidth\":0,\"ticks\":\"\"}}}],\"scatterpolargl\":[{\"type\":\"scatterpolargl\",\"marker\":{\"colorbar\":{\"outlinewidth\":0,\"ticks\":\"\"}}}],\"bar\":[{\"error_x\":{\"color\":\"#2a3f5f\"},\"error_y\":{\"color\":\"#2a3f5f\"},\"marker\":{\"line\":{\"color\":\"#E5ECF6\",\"width\":0.5},\"pattern\":{\"fillmode\":\"overlay\",\"size\":10,\"solidity\":0.2}},\"type\":\"bar\"}],\"scattergeo\":[{\"type\":\"scattergeo\",\"marker\":{\"colorbar\":{\"outlinewidth\":0,\"ticks\":\"\"}}}],\"scatterpolar\":[{\"type\":\"scatterpolar\",\"marker\":{\"colorbar\":{\"outlinewidth\":0,\"ticks\":\"\"}}}],\"histogram\":[{\"marker\":{\"pattern\":{\"fillmode\":\"overlay\",\"size\":10,\"solidity\":0.2}},\"type\":\"histogram\"}],\"scattergl\":[{\"type\":\"scattergl\",\"marker\":{\"colorbar\":{\"outlinewidth\":0,\"ticks\":\"\"}}}],\"scatter3d\":[{\"type\":\"scatter3d\",\"line\":{\"colorbar\":{\"outlinewidth\":0,\"ticks\":\"\"}},\"marker\":{\"colorbar\":{\"outlinewidth\":0,\"ticks\":\"\"}}}],\"scattermapbox\":[{\"type\":\"scattermapbox\",\"marker\":{\"colorbar\":{\"outlinewidth\":0,\"ticks\":\"\"}}}],\"scatterternary\":[{\"type\":\"scatterternary\",\"marker\":{\"colorbar\":{\"outlinewidth\":0,\"ticks\":\"\"}}}],\"scattercarpet\":[{\"type\":\"scattercarpet\",\"marker\":{\"colorbar\":{\"outlinewidth\":0,\"ticks\":\"\"}}}],\"carpet\":[{\"aaxis\":{\"endlinecolor\":\"#2a3f5f\",\"gridcolor\":\"white\",\"linecolor\":\"white\",\"minorgridcolor\":\"white\",\"startlinecolor\":\"#2a3f5f\"},\"baxis\":{\"endlinecolor\":\"#2a3f5f\",\"gridcolor\":\"white\",\"linecolor\":\"white\",\"minorgridcolor\":\"white\",\"startlinecolor\":\"#2a3f5f\"},\"type\":\"carpet\"}],\"table\":[{\"cells\":{\"fill\":{\"color\":\"#EBF0F8\"},\"line\":{\"color\":\"white\"}},\"header\":{\"fill\":{\"color\":\"#C8D4E3\"},\"line\":{\"color\":\"white\"}},\"type\":\"table\"}],\"barpolar\":[{\"marker\":{\"line\":{\"color\":\"#E5ECF6\",\"width\":0.5},\"pattern\":{\"fillmode\":\"overlay\",\"size\":10,\"solidity\":0.2}},\"type\":\"barpolar\"}],\"pie\":[{\"automargin\":true,\"type\":\"pie\"}]},\"layout\":{\"autotypenumbers\":\"strict\",\"colorway\":[\"#636efa\",\"#EF553B\",\"#00cc96\",\"#ab63fa\",\"#FFA15A\",\"#19d3f3\",\"#FF6692\",\"#B6E880\",\"#FF97FF\",\"#FECB52\"],\"font\":{\"color\":\"#2a3f5f\"},\"hovermode\":\"closest\",\"hoverlabel\":{\"align\":\"left\"},\"paper_bgcolor\":\"white\",\"plot_bgcolor\":\"#E5ECF6\",\"polar\":{\"bgcolor\":\"#E5ECF6\",\"angularaxis\":{\"gridcolor\":\"white\",\"linecolor\":\"white\",\"ticks\":\"\"},\"radialaxis\":{\"gridcolor\":\"white\",\"linecolor\":\"white\",\"ticks\":\"\"}},\"ternary\":{\"bgcolor\":\"#E5ECF6\",\"aaxis\":{\"gridcolor\":\"white\",\"linecolor\":\"white\",\"ticks\":\"\"},\"baxis\":{\"gridcolor\":\"white\",\"linecolor\":\"white\",\"ticks\":\"\"},\"caxis\":{\"gridcolor\":\"white\",\"linecolor\":\"white\",\"ticks\":\"\"}},\"coloraxis\":{\"colorbar\":{\"outlinewidth\":0,\"ticks\":\"\"}},\"colorscale\":{\"sequential\":[[0.0,\"#0d0887\"],[0.1111111111111111,\"#46039f\"],[0.2222222222222222,\"#7201a8\"],[0.3333333333333333,\"#9c179e\"],[0.4444444444444444,\"#bd3786\"],[0.5555555555555556,\"#d8576b\"],[0.6666666666666666,\"#ed7953\"],[0.7777777777777778,\"#fb9f3a\"],[0.8888888888888888,\"#fdca26\"],[1.0,\"#f0f921\"]],\"sequentialminus\":[[0.0,\"#0d0887\"],[0.1111111111111111,\"#46039f\"],[0.2222222222222222,\"#7201a8\"],[0.3333333333333333,\"#9c179e\"],[0.4444444444444444,\"#bd3786\"],[0.5555555555555556,\"#d8576b\"],[0.6666666666666666,\"#ed7953\"],[0.7777777777777778,\"#fb9f3a\"],[0.8888888888888888,\"#fdca26\"],[1.0,\"#f0f921\"]],\"diverging\":[[0,\"#8e0152\"],[0.1,\"#c51b7d\"],[0.2,\"#de77ae\"],[0.3,\"#f1b6da\"],[0.4,\"#fde0ef\"],[0.5,\"#f7f7f7\"],[0.6,\"#e6f5d0\"],[0.7,\"#b8e186\"],[0.8,\"#7fbc41\"],[0.9,\"#4d9221\"],[1,\"#276419\"]]},\"xaxis\":{\"gridcolor\":\"white\",\"linecolor\":\"white\",\"ticks\":\"\",\"title\":{\"standoff\":15},\"zerolinecolor\":\"white\",\"automargin\":true,\"zerolinewidth\":2},\"yaxis\":{\"gridcolor\":\"white\",\"linecolor\":\"white\",\"ticks\":\"\",\"title\":{\"standoff\":15},\"zerolinecolor\":\"white\",\"automargin\":true,\"zerolinewidth\":2},\"scene\":{\"xaxis\":{\"backgroundcolor\":\"#E5ECF6\",\"gridcolor\":\"white\",\"linecolor\":\"white\",\"showbackground\":true,\"ticks\":\"\",\"zerolinecolor\":\"white\",\"gridwidth\":2},\"yaxis\":{\"backgroundcolor\":\"#E5ECF6\",\"gridcolor\":\"white\",\"linecolor\":\"white\",\"showbackground\":true,\"ticks\":\"\",\"zerolinecolor\":\"white\",\"gridwidth\":2},\"zaxis\":{\"backgroundcolor\":\"#E5ECF6\",\"gridcolor\":\"white\",\"linecolor\":\"white\",\"showbackground\":true,\"ticks\":\"\",\"zerolinecolor\":\"white\",\"gridwidth\":2}},\"shapedefaults\":{\"line\":{\"color\":\"#2a3f5f\"}},\"annotationdefaults\":{\"arrowcolor\":\"#2a3f5f\",\"arrowhead\":0,\"arrowwidth\":1},\"geo\":{\"bgcolor\":\"white\",\"landcolor\":\"#E5ECF6\",\"subunitcolor\":\"white\",\"showland\":true,\"showlakes\":true,\"lakecolor\":\"white\"},\"title\":{\"x\":0.05},\"mapbox\":{\"style\":\"light\"}}},\"xaxis\":{\"anchor\":\"y\",\"domain\":[0.0,1.0],\"title\":{\"text\":\"Transmission\"},\"categoryorder\":\"array\",\"categoryarray\":[\"Manual\",\"Automatic\"]},\"yaxis\":{\"anchor\":\"x\",\"domain\":[0.0,1.0],\"title\":{\"text\":\"Selling_Price\"}},\"legend\":{\"title\":{\"text\":\"Transmission\"},\"tracegroupgap\":0},\"title\":{\"text\":\"Selling Price by Transmission Type\"},\"boxmode\":\"overlay\"},                        {\"responsive\": true}                    ).then(function(){\n",
       "                            \n",
       "var gd = document.getElementById('7d73169d-4b62-407e-b24e-5cabd6e29fc6');\n",
       "var x = new MutationObserver(function (mutations, observer) {{\n",
       "        var display = window.getComputedStyle(gd).display;\n",
       "        if (!display || display === 'none') {{\n",
       "            console.log([gd, 'removed!']);\n",
       "            Plotly.purge(gd);\n",
       "            observer.disconnect();\n",
       "        }}\n",
       "}});\n",
       "\n",
       "// Listen for the removal of the full notebook cells\n",
       "var notebookContainer = gd.closest('#notebook-container');\n",
       "if (notebookContainer) {{\n",
       "    x.observe(notebookContainer, {childList: true});\n",
       "}}\n",
       "\n",
       "// Listen for the clearing of the current output cell\n",
       "var outputEl = gd.closest('.output');\n",
       "if (outputEl) {{\n",
       "    x.observe(outputEl, {childList: true});\n",
       "}}\n",
       "\n",
       "                        })                };                            </script>        </div>\n",
       "</body>\n",
       "</html>"
      ]
     },
     "metadata": {},
     "output_type": "display_data"
    }
   ],
   "source": [
    "fig3 = px.box(df, \n",
    "              x='Transmission', \n",
    "              y='Selling_Price',\n",
    "              title=\"Selling Price by Transmission Type\",\n",
    "              color='Transmission')\n",
    "\n",
    "fig3.show()"
   ]
  },
  {
   "cell_type": "code",
   "execution_count": 23,
   "id": "9b7cd79c",
   "metadata": {
    "execution": {
     "iopub.execute_input": "2025-06-26T13:40:38.635467Z",
     "iopub.status.busy": "2025-06-26T13:40:38.635166Z",
     "iopub.status.idle": "2025-06-26T13:40:39.187786Z",
     "shell.execute_reply": "2025-06-26T13:40:39.186932Z"
    },
    "papermill": {
     "duration": 0.564309,
     "end_time": "2025-06-26T13:40:39.189421",
     "exception": false,
     "start_time": "2025-06-26T13:40:38.625112",
     "status": "completed"
    },
    "tags": []
   },
   "outputs": [
    {
     "data": {
      "image/png": "[encoded data removed]",
      "text/plain": [
       "<Figure size 1500x500 with 3 Axes>"
      ]
     },
     "metadata": {},
     "output_type": "display_data"
    }
   ],
   "source": [
    "import pandas as pd\n",
    "import matplotlib.pyplot as plt\n",
    "import seaborn as sns\n",
    "\n",
    "df = pd.read_csv('/kaggle/input/car-price-predictionused-cars/car data.csv')\n",
    "\n",
    "categorical_columns = ['Fuel_Type', 'Selling_type', 'Transmission']\n",
    "\n",
    "fig, axes = plt.subplots(nrows=1, ncols=3, figsize=(15, 5))\n",
    "axes = axes.ravel()\n",
    "\n",
    "for i, column in enumerate(categorical_columns):\n",
    "    sns.countplot(x=column, data=df, palette='Set2', ax=axes[i], saturation=0.9)\n",
    "    for container in axes[i].containers:\n",
    "        axes[i].bar_label(container, color='black', size=10)\n",
    "    axes[i].set_title(f'{column.replace(\"_\", \" \")}', fontsize=12)\n",
    "    axes[i].set_xlabel('')\n",
    "    axes[i].set_ylabel('Count')\n",
    "\n",
    "plt.tight_layout()\n",
    "plt.show()"
   ]
  },
  {
   "cell_type": "code",
   "execution_count": 24,
   "id": "49e44b8e",
   "metadata": {
    "execution": {
     "iopub.execute_input": "2025-06-26T13:40:39.210708Z",
     "iopub.status.busy": "2025-06-26T13:40:39.210231Z",
     "iopub.status.idle": "2025-06-26T13:40:40.131686Z",
     "shell.execute_reply": "2025-06-26T13:40:40.130771Z"
    },
    "papermill": {
     "duration": 0.934524,
     "end_time": "2025-06-26T13:40:40.133766",
     "exception": false,
     "start_time": "2025-06-26T13:40:39.199242",
     "status": "completed"
    },
    "tags": []
   },
   "outputs": [
    {
     "data": {
      "image/png": "[encoded data removed]",
      "text/plain": [
       "<Figure size 1400x500 with 2 Axes>"
      ]
     },
     "metadata": {},
     "output_type": "display_data"
    },
    {
     "data": {
      "image/png": "[encoded data removed]",
      "text/plain": [
       "<Figure size 1400x500 with 2 Axes>"
      ]
     },
     "metadata": {},
     "output_type": "display_data"
    }
   ],
   "source": [
    "import matplotlib.pyplot as plt\n",
    "import seaborn as sns\n",
    "\n",
    "cat_cols = ['Fuel_Type', 'Selling_type', 'Transmission', 'Owner']\n",
    "\n",
    "for i in range(0, len(cat_cols), 2):\n",
    "    fig, axes = plt.subplots(1, 2, figsize=(14, 5))\n",
    "    \n",
    "    sns.countplot(x=cat_cols[i], data=df, palette='pastel', ax=axes[0])\n",
    "    axes[0].set_title(cat_cols[i])\n",
    "    axes[0].set_xlabel('')\n",
    "    axes[0].set_ylabel('Count')\n",
    "    for container in axes[0].containers:\n",
    "        axes[0].bar_label(container, color='black', fontsize=10)\n",
    "    \n",
    "    if i+1 < len(cat_cols):\n",
    "        sns.countplot(x=cat_cols[i+1], data=df, palette='pastel', ax=axes[1])\n",
    "        axes[1].set_title(cat_cols[i+1])\n",
    "        axes[1].set_xlabel('')\n",
    "        axes[1].set_ylabel('Count')\n",
    "        for container in axes[1].containers:\n",
    "            axes[1].bar_label(container, color='black', fontsize=10)\n",
    "    else:\n",
    "        axes[1].axis('off')\n",
    "    \n",
    "    plt.tight_layout()\n",
    "    plt.show()"
   ]
  },
  {
   "cell_type": "code",
   "execution_count": 25,
   "id": "8600300a",
   "metadata": {
    "execution": {
     "iopub.execute_input": "2025-06-26T13:40:40.158983Z",
     "iopub.status.busy": "2025-06-26T13:40:40.158582Z",
     "iopub.status.idle": "2025-06-26T13:40:40.448861Z",
     "shell.execute_reply": "2025-06-26T13:40:40.447772Z"
    },
    "papermill": {
     "duration": 0.305755,
     "end_time": "2025-06-26T13:40:40.451091",
     "exception": false,
     "start_time": "2025-06-26T13:40:40.145336",
     "status": "completed"
    },
    "tags": []
   },
   "outputs": [
    {
     "data": {
      "image/png": "[encoded data removed]",
      "text/plain": [
       "<Figure size 1200x600 with 1 Axes>"
      ]
     },
     "metadata": {},
     "output_type": "display_data"
    }
   ],
   "source": [
    "import matplotlib.pyplot as plt\n",
    "import seaborn as sns\n",
    "\n",
    "plt.figure(figsize=(12, 6))\n",
    "sns.barplot(x='Year', y='Selling_Price', data=df, errorbar=None, palette='pastel')\n",
    "plt.title('Average Selling Price by Year', fontsize=16)\n",
    "plt.xlabel('Year', fontsize=12)\n",
    "plt.ylabel('Average Selling Price', fontsize=12)\n",
    "plt.xticks(rotation=45)\n",
    "plt.grid(axis='y', linestyle='--', alpha=0.6)\n",
    "plt.tight_layout()\n",
    "plt.show()"
   ]
  },
  {
   "cell_type": "code",
   "execution_count": 26,
   "id": "d007e365",
   "metadata": {
    "execution": {
     "iopub.execute_input": "2025-06-26T13:40:40.481762Z",
     "iopub.status.busy": "2025-06-26T13:40:40.480703Z",
     "iopub.status.idle": "2025-06-26T13:40:40.974958Z",
     "shell.execute_reply": "2025-06-26T13:40:40.973590Z"
    },
    "papermill": {
     "duration": 0.509747,
     "end_time": "2025-06-26T13:40:40.976807",
     "exception": false,
     "start_time": "2025-06-26T13:40:40.467060",
     "status": "completed"
    },
    "tags": []
   },
   "outputs": [
    {
     "data": {
      "image/png": "[encoded data removed]",
      "text/plain": [
       "<Figure size 1400x600 with 2 Axes>"
      ]
     },
     "metadata": {},
     "output_type": "display_data"
    }
   ],
   "source": [
    "import matplotlib.pyplot as plt\n",
    "import seaborn as sns\n",
    "\n",
    "plt.figure(figsize=(14, 6))\n",
    "\n",
    "plt.subplot(1, 2, 1)\n",
    "plt.title('Distribution of Selling Price', fontsize=16)\n",
    "sns.histplot(df['Selling_Price'], kde=True, color='skyblue')\n",
    "plt.xlabel('Selling Price')\n",
    "plt.ylabel('Frequency')\n",
    "\n",
    "plt.subplot(1, 2, 2)\n",
    "plt.title('Spread of Selling Price', fontsize=16)\n",
    "sns.boxplot(y=df['Selling_Price'], color='lightgreen')\n",
    "plt.ylabel('Selling Price')\n",
    "\n",
    "plt.tight_layout()\n",
    "plt.show()"
   ]
  },
  {
   "cell_type": "code",
   "execution_count": 27,
   "id": "f6ec66b1",
   "metadata": {
    "execution": {
     "iopub.execute_input": "2025-06-26T13:40:41.077468Z",
     "iopub.status.busy": "2025-06-26T13:40:41.077143Z",
     "iopub.status.idle": "2025-06-26T13:40:41.462254Z",
     "shell.execute_reply": "2025-06-26T13:40:41.461074Z"
    },
    "papermill": {
     "duration": 0.470338,
     "end_time": "2025-06-26T13:40:41.464005",
     "exception": false,
     "start_time": "2025-06-26T13:40:40.993667",
     "status": "completed"
    },
    "tags": []
   },
   "outputs": [
    {
     "data": {
      "image/png": "[encoded data removed]",
      "text/plain": [
       "<Figure size 2500x600 with 2 Axes>"
      ]
     },
     "metadata": {},
     "output_type": "display_data"
    }
   ],
   "source": [
    "import matplotlib.pyplot as plt\n",
    "\n",
    "plt.figure(figsize=(25, 6))\n",
    "\n",
    "\n",
    "plt.subplot(1, 3, 2)\n",
    "fuel_counts = df['Fuel_Type'].value_counts()\n",
    "plt.bar(fuel_counts.index, fuel_counts.values, color='lightcoral')\n",
    "plt.title('Fuel Type Histogram', fontsize=16)\n",
    "plt.xlabel('Fuel Type', fontsize=12)\n",
    "plt.ylabel('Frequency of Fuel Type', fontsize=12)\n",
    "\n",
    "plt.subplot(1, 3, 3)\n",
    "\n",
    "transmission_counts = df['Transmission'].value_counts()\n",
    "plt.bar(transmission_counts.index, transmission_counts.values, color='lightgreen')\n",
    "plt.title('Transmission Type Histogram', fontsize=16)\n",
    "plt.xlabel('Transmission Type', fontsize=12)\n",
    "plt.ylabel('Frequency of Transmission Type', fontsize=12)\n",
    "\n",
    "plt.tight_layout()\n",
    "plt.show()"
   ]
  },
  {
   "cell_type": "markdown",
   "id": "ca2c46c3",
   "metadata": {
    "papermill": {
     "duration": 0.012966,
     "end_time": "2025-06-26T13:40:41.490823",
     "exception": false,
     "start_time": "2025-06-26T13:40:41.477857",
     "status": "completed"
    },
    "tags": []
   },
   "source": [
    "4-**Model Training Using XGBoost**\n",
    "\n",
    "With the training data prepared, we proceed to train a regression model using the XGBoost algorithm, a powerful and efficient gradient boosting framework. XGBoost is particularly well-suited for structured tabular data and often outperforms traditional algorithms due to its ability to capture complex patterns through an ensemble of decision trees. During this step, the model learns to map the input features to the target selling price."
   ]
  },
  {
   "cell_type": "code",
   "execution_count": 28,
   "id": "ca616c3e",
   "metadata": {
    "execution": {
     "iopub.execute_input": "2025-06-26T13:40:41.519602Z",
     "iopub.status.busy": "2025-06-26T13:40:41.519243Z",
     "iopub.status.idle": "2025-06-26T13:40:41.526093Z",
     "shell.execute_reply": "2025-06-26T13:40:41.525075Z"
    },
    "papermill": {
     "duration": 0.023204,
     "end_time": "2025-06-26T13:40:41.527823",
     "exception": false,
     "start_time": "2025-06-26T13:40:41.504619",
     "status": "completed"
    },
    "tags": []
   },
   "outputs": [],
   "source": [
    "X = df.drop('Selling_Price', axis=1)\n",
    "y = df['Selling_Price']"
   ]
  },
  {
   "cell_type": "code",
   "execution_count": 29,
   "id": "6becc6a4",
   "metadata": {
    "execution": {
     "iopub.execute_input": "2025-06-26T13:40:41.558060Z",
     "iopub.status.busy": "2025-06-26T13:40:41.557676Z",
     "iopub.status.idle": "2025-06-26T13:40:41.565546Z",
     "shell.execute_reply": "2025-06-26T13:40:41.564526Z"
    },
    "papermill": {
     "duration": 0.025066,
     "end_time": "2025-06-26T13:40:41.567155",
     "exception": false,
     "start_time": "2025-06-26T13:40:41.542089",
     "status": "completed"
    },
    "tags": []
   },
   "outputs": [],
   "source": [
    "from sklearn.model_selection import train_test_split\n",
    "\n",
    "X_train, X_test, y_train, y_test = train_test_split(X, y, test_size=0.2, random_state=42)"
   ]
  },
  {
   "cell_type": "code",
   "execution_count": 30,
   "id": "085e0427",
   "metadata": {
    "execution": {
     "iopub.execute_input": "2025-06-26T13:40:41.596321Z",
     "iopub.status.busy": "2025-06-26T13:40:41.595989Z",
     "iopub.status.idle": "2025-06-26T13:40:41.776968Z",
     "shell.execute_reply": "2025-06-26T13:40:41.776298Z"
    },
    "papermill": {
     "duration": 0.197423,
     "end_time": "2025-06-26T13:40:41.778596",
     "exception": false,
     "start_time": "2025-06-26T13:40:41.581173",
     "status": "completed"
    },
    "tags": []
   },
   "outputs": [
    {
     "data": {
      "text/html": [
       "<style>#sk-container-id-1 {color: black;background-color: white;}#sk-container-id-1 pre{padding: 0;}#sk-container-id-1 div.sk-toggleable {background-color: white;}#sk-container-id-1 label.sk-toggleable__label {cursor: pointer;display: block;width: 100%;margin-bottom: 0;padding: 0.3em;box-sizing: border-box;text-align: center;}#sk-container-id-1 label.sk-toggleable__label-arrow:before {content: \"▸\";float: left;margin-right: 0.25em;color: #696969;}#sk-container-id-1 label.sk-toggleable__label-arrow:hover:before {color: black;}#sk-container-id-1 div.sk-estimator:hover label.sk-toggleable__label-arrow:before {color: black;}#sk-container-id-1 div.sk-toggleable__content {max-height: 0;max-width: 0;overflow: hidden;text-align: left;background-color: #f0f8ff;}#sk-container-id-1 div.sk-toggleable__content pre {margin: 0.2em;color: black;border-radius: 0.25em;background-color: #f0f8ff;}#sk-container-id-1 input.sk-toggleable__control:checked~div.sk-toggleable__content {max-height: 200px;max-width: 100%;overflow: auto;}#sk-container-id-1 input.sk-toggleable__control:checked~label.sk-toggleable__label-arrow:before {content: \"▾\";}#sk-container-id-1 div.sk-estimator input.sk-toggleable__control:checked~label.sk-toggleable__label {background-color: #d4ebff;}#sk-container-id-1 div.sk-label input.sk-toggleable__control:checked~label.sk-toggleable__label {background-color: #d4ebff;}#sk-container-id-1 input.sk-hidden--visually {border: 0;clip: rect(1px 1px 1px 1px);clip: rect(1px, 1px, 1px, 1px);height: 1px;margin: -1px;overflow: hidden;padding: 0;position: absolute;width: 1px;}#sk-container-id-1 div.sk-estimator {font-family: monospace;background-color: #f0f8ff;border: 1px dotted black;border-radius: 0.25em;box-sizing: border-box;margin-bottom: 0.5em;}#sk-container-id-1 div.sk-estimator:hover {background-color: #d4ebff;}#sk-container-id-1 div.sk-parallel-item::after {content: \"\";width: 100%;border-bottom: 1px solid gray;flex-grow: 1;}#sk-container-id-1 div.sk-label:hover label.sk-toggleable__label {background-color: #d4ebff;}#sk-container-id-1 div.sk-serial::before {content: \"\";position: absolute;border-left: 1px solid gray;box-sizing: border-box;top: 0;bottom: 0;left: 50%;z-index: 0;}#sk-container-id-1 div.sk-serial {display: flex;flex-direction: column;align-items: center;background-color: white;padding-right: 0.2em;padding-left: 0.2em;position: relative;}#sk-container-id-1 div.sk-item {position: relative;z-index: 1;}#sk-container-id-1 div.sk-parallel {display: flex;align-items: stretch;justify-content: center;background-color: white;position: relative;}#sk-container-id-1 div.sk-item::before, #sk-container-id-1 div.sk-parallel-item::before {content: \"\";position: absolute;border-left: 1px solid gray;box-sizing: border-box;top: 0;bottom: 0;left: 50%;z-index: -1;}#sk-container-id-1 div.sk-parallel-item {display: flex;flex-direction: column;z-index: 1;position: relative;background-color: white;}#sk-container-id-1 div.sk-parallel-item:first-child::after {align-self: flex-end;width: 50%;}#sk-container-id-1 div.sk-parallel-item:last-child::after {align-self: flex-start;width: 50%;}#sk-container-id-1 div.sk-parallel-item:only-child::after {width: 0;}#sk-container-id-1 div.sk-dashed-wrapped {border: 1px dashed gray;margin: 0 0.4em 0.5em 0.4em;box-sizing: border-box;padding-bottom: 0.4em;background-color: white;}#sk-container-id-1 div.sk-label label {font-family: monospace;font-weight: bold;display: inline-block;line-height: 1.2em;}#sk-container-id-1 div.sk-label-container {text-align: center;}#sk-container-id-1 div.sk-container {/* jupyter's `normalize.less` sets `[hidden] { display: none; }` but bootstrap.min.css set `[hidden] { display: none !important; }` so we also need the `!important` here to be able to override the default hidden behavior on the sphinx rendered scikit-learn.org. See: https://github.com/scikit-learn/scikit-learn/issues/21755 */display: inline-block !important;position: relative;}#sk-container-id-1 div.sk-text-repr-fallback {display: none;}</style><div id=\"sk-container-id-1\" class=\"sk-top-container\"><div class=\"sk-text-repr-fallback\"><pre>XGBRegressor(base_score=None, booster=None, callbacks=None,\n",
       "             colsample_bylevel=None, colsample_bynode=None,\n",
       "             colsample_bytree=None, device=None, early_stopping_rounds=None,\n",
       "             enable_categorical=False, eval_metric=None, feature_types=None,\n",
       "             gamma=None, grow_policy=None, importance_type=None,\n",
       "             interaction_constraints=None, learning_rate=None, max_bin=None,\n",
       "             max_cat_threshold=None, max_cat_to_onehot=None,\n",
       "             max_delta_step=None, max_depth=None, max_leaves=None,\n",
       "             min_child_weight=None, missing=nan, monotone_constraints=None,\n",
       "             multi_strategy=None, n_estimators=None, n_jobs=None,\n",
       "             num_parallel_tree=None, random_state=None, ...)</pre><b>In a Jupyter environment, please rerun this cell to show the HTML representation or trust the notebook. <br />On GitHub, the HTML representation is unable to render, please try loading this page with nbviewer.org.</b></div><div class=\"sk-container\" hidden><div class=\"sk-item\"><div class=\"sk-estimator sk-toggleable\"><input class=\"sk-toggleable__control sk-hidden--visually\" id=\"sk-estimator-id-1\" type=\"checkbox\" checked><label for=\"sk-estimator-id-1\" class=\"sk-toggleable__label sk-toggleable__label-arrow\">XGBRegressor</label><div class=\"sk-toggleable__content\"><pre>XGBRegressor(base_score=None, booster=None, callbacks=None,\n",
       "             colsample_bylevel=None, colsample_bynode=None,\n",
       "             colsample_bytree=None, device=None, early_stopping_rounds=None,\n",
       "             enable_categorical=False, eval_metric=None, feature_types=None,\n",
       "             gamma=None, grow_policy=None, importance_type=None,\n",
       "             interaction_constraints=None, learning_rate=None, max_bin=None,\n",
       "             max_cat_threshold=None, max_cat_to_onehot=None,\n",
       "             max_delta_step=None, max_depth=None, max_leaves=None,\n",
       "             min_child_weight=None, missing=nan, monotone_constraints=None,\n",
       "             multi_strategy=None, n_estimators=None, n_jobs=None,\n",
       "             num_parallel_tree=None, random_state=None, ...)</pre></div></div></div></div></div>"
      ],
      "text/plain": [
       "XGBRegressor(base_score=None, booster=None, callbacks=None,\n",
       "             colsample_bylevel=None, colsample_bynode=None,\n",
       "             colsample_bytree=None, device=None, early_stopping_rounds=None,\n",
       "             enable_categorical=False, eval_metric=None, feature_types=None,\n",
       "             gamma=None, grow_policy=None, importance_type=None,\n",
       "             interaction_constraints=None, learning_rate=None, max_bin=None,\n",
       "             max_cat_threshold=None, max_cat_to_onehot=None,\n",
       "             max_delta_step=None, max_depth=None, max_leaves=None,\n",
       "             min_child_weight=None, missing=nan, monotone_constraints=None,\n",
       "             multi_strategy=None, n_estimators=None, n_jobs=None,\n",
       "             num_parallel_tree=None, random_state=None, ...)"
      ]
     },
     "execution_count": 30,
     "metadata": {},
     "output_type": "execute_result"
    }
   ],
   "source": [
    "X_train_encoded = pd.get_dummies(X_train, drop_first=True)\n",
    "X_test_encoded = pd.get_dummies(X_test, drop_first=True)\n",
    "\n",
    "\n",
    "X_test_encoded = X_test_encoded.reindex(columns=X_train_encoded.columns, fill_value=0)\n",
    "\n",
    "model = XGBRegressor()\n",
    "model.fit(X_train_encoded, y_train)"
   ]
  },
  {
   "cell_type": "markdown",
   "id": "14528072",
   "metadata": {
    "papermill": {
     "duration": 0.014792,
     "end_time": "2025-06-26T13:40:41.807465",
     "exception": false,
     "start_time": "2025-06-26T13:40:41.792673",
     "status": "completed"
    },
    "tags": []
   },
   "source": [
    "5-**Model Evaluation**\n",
    "\n",
    "Once the model is trained, we evaluate its performance on the testing data using key regression metrics such as the R² score and Root Mean Squared Error (RMSE). The R² score indicates how well the model explains the variance in the target variable, while RMSE gives insight into the average prediction error. High R² values and low RMSE scores suggest that the model is both accurate and reliable."
   ]
  },
  {
   "cell_type": "code",
   "execution_count": 31,
   "id": "c1f13000",
   "metadata": {
    "execution": {
     "iopub.execute_input": "2025-06-26T13:40:41.836620Z",
     "iopub.status.busy": "2025-06-26T13:40:41.835751Z",
     "iopub.status.idle": "2025-06-26T13:40:42.240156Z",
     "shell.execute_reply": "2025-06-26T13:40:42.239102Z"
    },
    "papermill": {
     "duration": 0.421189,
     "end_time": "2025-06-26T13:40:42.242126",
     "exception": false,
     "start_time": "2025-06-26T13:40:41.820937",
     "status": "completed"
    },
    "tags": []
   },
   "outputs": [
    {
     "name": "stdout",
     "output_type": "stream",
     "text": [
      "RMSE: 0.97\n",
      "R² Score: 0.96\n"
     ]
    },
    {
     "data": {
      "image/png": "[encoded data removed]",
      "text/plain": [
       "<Figure size 1000x600 with 1 Axes>"
      ]
     },
     "metadata": {},
     "output_type": "display_data"
    }
   ],
   "source": [
    "import pandas as pd\n",
    "import matplotlib.pyplot as plt\n",
    "import seaborn as sns\n",
    "from xgboost import XGBRegressor\n",
    "from sklearn.model_selection import train_test_split\n",
    "from sklearn.metrics import mean_squared_error, r2_score\n",
    "\n",
    "\n",
    "X = df.drop('Selling_Price', axis=1)\n",
    "y = df['Selling_Price']\n",
    "\n",
    "\n",
    "X_encoded = pd.get_dummies(X, drop_first=True)\n",
    "\n",
    "\n",
    "X_train, X_test, y_train, y_test = train_test_split(X_encoded, y, test_size=0.2, random_state=42)\n",
    "\n",
    "\n",
    "model = XGBRegressor()\n",
    "model.fit(X_train, y_train)\n",
    "\n",
    "\n",
    "y_pred = model.predict(X_test)\n",
    "\n",
    "\n",
    "rmse = mean_squared_error(y_test, y_pred, squared=False)\n",
    "r2 = r2_score(y_test, y_pred)\n",
    "\n",
    "print(f\"RMSE: {rmse:.2f}\")\n",
    "print(f\"R² Score: {r2:.2f}\")\n",
    "\n",
    "\n",
    "plt.figure(figsize=(10, 6))\n",
    "sns.scatterplot(x=y_test, y=y_pred, color='teal', alpha=0.6)\n",
    "plt.xlabel(\"Actual Selling Price\")\n",
    "plt.ylabel(\"Predicted Selling Price\")\n",
    "plt.title(\"Actual vs Predicted Selling Price\")\n",
    "plt.plot([y_test.min(), y_test.max()], [y_test.min(), y_test.max()], color='red', linestyle='--')  # خط مثالي\n",
    "plt.grid(True, linestyle='--', alpha=0.5)\n",
    "plt.tight_layout()\n",
    "plt.show()"
   ]
  },
  {
   "cell_type": "code",
   "execution_count": 32,
   "id": "e0d92b3d",
   "metadata": {
    "execution": {
     "iopub.execute_input": "2025-06-26T13:40:42.276260Z",
     "iopub.status.busy": "2025-06-26T13:40:42.275315Z",
     "iopub.status.idle": "2025-06-26T13:40:42.286767Z",
     "shell.execute_reply": "2025-06-26T13:40:42.286059Z"
    },
    "papermill": {
     "duration": 0.030017,
     "end_time": "2025-06-26T13:40:42.288530",
     "exception": false,
     "start_time": "2025-06-26T13:40:42.258513",
     "status": "completed"
    },
    "tags": []
   },
   "outputs": [
    {
     "data": {
      "text/plain": [
       "['car_price_model.joblib']"
      ]
     },
     "execution_count": 32,
     "metadata": {},
     "output_type": "execute_result"
    }
   ],
   "source": [
    "import joblib\n",
    "\n",
    "\n",
    "joblib.dump(model, 'car_price_model.joblib')"
   ]
  }
 ],
 "metadata": {
  "kaggle": {
   "accelerator": "none",
   "dataSources": [
    {
     "datasetId": 2491159,
     "sourceId": 4226692,
     "sourceType": "datasetVersion"
    }
   ],
   "dockerImageVersionId": 31040,
   "isGpuEnabled": false,
   "isInternetEnabled": true,
   "language": "python",
   "sourceType": "notebook"
  },
  "kernelspec": {
   "display_name": "Python 3 (ipykernel)",
   "language": "python",
   "name": "python3"
  },
  "language_info": {
   "codemirror_mode": {
    "name": "ipython",
    "version": 3
   },
   "file_extension": ".py",
   "mimetype": "text/x-python",
   "name": "python",
   "nbconvert_exporter": "python",
   "pygments_lexer": "ipython3",
   "version": "3.13.0"
  },
  "papermill": {
   "default_parameters": {},
   "duration": 19.720477,
   "end_time": "2025-06-26T13:40:43.631557",
   "environment_variables": {},
   "exception": null,
   "input_path": "__notebook__.ipynb",
   "output_path": "__notebook__.ipynb",
   "parameters": {},
   "start_time": "2025-06-26T13:40:23.911080",
   "version": "2.6.0"
  }
 },
 "nbformat": 4,
 "nbformat_minor": 5
}
